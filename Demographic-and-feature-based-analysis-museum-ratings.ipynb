{
 "cells": [
  {
   "cell_type": "markdown",
   "metadata": {},
   "source": [
    "### College of Computing and Informatics, Drexel University\n",
    "### INFO 212: Data Science Programming I, Spring 2018\n",
    "---\n",
    "\n",
    "# Final Project Report\n",
    "\n",
    "# Project Title: <font color = \"purple\"> Demographic and Feature-Based Analysis of Museum Ratings (TripAdvisor)\n",
    "\n",
    "## Student(s): Jessica Hoban\n",
    "\n",
    "#### Date: June 15, 2018\n",
    "---"
   ]
  },
  {
   "cell_type": "markdown",
   "metadata": {},
   "source": [
    "#### Abstract\n",
    "---"
   ]
  },
  {
   "cell_type": "markdown",
   "metadata": {},
   "source": [
    "**Problem:** <br>\n",
    "In the digital era, where entertainment is often contained on a cell-phone screen, public gathering spaces need more than ever to understand what makes customers happy. By analysing attributes of American museums alongside their ratings from patrons, we can hope to improve our understanding of just what makes a good museum \"good\".\n",
    "\n",
    "**Dataset:**<br>\n",
    "The data set being used was sourced from Kaggle.com, and contains data on over 1600 museums, 981 of which are in the United States. \n",
    "\n",
    "**Findings:**<br>\n",
    "We analysed patron type (e.g. singles, families, business, or couples), number of reviews (i.e. overall popularity), and number of \"features\". \n",
    "\n",
    "From this analysis, we found that museums with patrons that are majority couples are more likely to have higher ratings, as are museums with more features. Though, museums with 5 star ratings tend to have a moderate number of features, suggesting that they prioritize quality over quantity of features. Additionally, museums with higher numbers of reviews were slightly more likely to have a higher rating."
   ]
  },
  {
   "cell_type": "markdown",
   "metadata": {},
   "source": [
    "## 1. Introduction\n",
    "---"
   ]
  },
  {
   "cell_type": "markdown",
   "metadata": {},
   "source": [
    "\n",
    "## Project overview:\n",
    "\n",
    "**Introduction:** <br>\n",
    "*In this project, we will be cleaning and analysing museum data, including attributes and ratings. *\n",
    "\n",
    "**Data Description:** <br>\n",
    "The dataset is downloaded as a CSV file and loaded into a pandas DataFrame, where we then cleaned a column containing phone numbers and removed rows with an above-average amount of missing values. <br>\n",
    "\n",
    "Our requirements when looking for a dataset were:\n",
    ">- Over 1000 rows\n",
    "- Ranking/Rating values\n",
    "- Less column metadata (i.e. We would need to figure it out)\n",
    "- Opportunity for string cleaning\n",
    "\n",
    "We prioritized finding an interesting dataset over finding a pressing problem, as we knew this project would include heavy data wrangling.\n",
    "\n",
    "**Data source:** *Museum Reviews Collected from TripAdvisor* from [Kaggle.com](https://www.kaggle.com/annecool37/museum-data) <br><br>\n",
    "\n",
    "**Data Analytics Methods:** <br>\n",
    "The techniques used to analyse the data were primarily visual, as we plotted the distribution of ratings with filters on various columns. Not only did we analyse distribution of ratings in terms of other attributes, we also looked at distribution of certain attributes filtered by rating.\n",
    "\n",
    "**Objectives:**\n",
    ">- String and data cleansing\n",
    "- Analyzing relationships between attributes\n",
    "- Effectively using graphical representations of data\n",
    "\n",
    "**Results:**\n",
    "\n",
    "We found that the distribution of ratings were most left-skewed (i.e. tended to have the highest values) when the majority of patrons were couples. There were zero museums in the data that had majority business patrons, so we cannot appropriately comment on that demographic.\n",
    "\n",
    "We also found a slight increase in number of reviews for higher ratings. Our data was incomplete at lower rating values and showed skewed results at values of 3.0 and below.\n",
    "\n",
    "Lastly, we found that, generally speaking, museums with more features tended to have better ratings. This held true except for at a rating of 5.0, which had a moderate mean for its number of features. This suggested that the top-tier museums tended to focus on quality rather than quantity of features.\n",
    "<hr>"
   ]
  },
  {
   "cell_type": "markdown",
   "metadata": {},
   "source": [
    "## 2. Problem Definition\n",
    "---"
   ]
  },
  {
   "cell_type": "markdown",
   "metadata": {},
   "source": [
    "> ### Proposed problem:\n",
    "Whether it's museums, restaurants, or any other public gathering point, it's beneficial to know what factors lead to success. Especially in an era where electronic entertainment is prioritized, museums need to be aware of the factors that lead to success, in order to overcome its digital competitors.<br><br>\n",
    "Using this data, we can find the correlations between a museum's rating and its location, features, types of patrons, and overall popularity.<br><br>\n",
    "Any museum owner or aficionado would be a potential stakeholder in this problem, and could benefit as a result of the findings.\n",
    "<hr>\n"
   ]
  },
  {
   "cell_type": "markdown",
   "metadata": {},
   "source": [
    "## 3. Data Sources\n",
    "---"
   ]
  },
  {
   "cell_type": "markdown",
   "metadata": {},
   "source": [
    "> **Dataset origin: **\n",
    "*https://www.kaggle.com/annecool37/museum-data* <br><br>\n",
    "The data is the result of both web scraping and feature engineering techniques used on the TripAdvisor website. Web scraping is how the data was collected, and feature engineering was used to create binary columns with potential phrases used in the museum descriptions (text-mining column descriptions in section 5).<br><br>\n",
    "The author describes the data as:\n",
    "- ***tripadvisor_merged.csv:*** *A file containing museum data collected from TripAdvisor including tag/ type/ review/ quote features*\n",
    "\n",
    "<hr>\n",
    "\n",
    "> **Dataset format:** CSV file\n",
    "\n"
   ]
  },
  {
   "cell_type": "markdown",
   "metadata": {},
   "source": [
    "## 4. Acquiring and Loading Data\n",
    "---"
   ]
  },
  {
   "cell_type": "markdown",
   "metadata": {},
   "source": [
    ">#### Step 1)\n",
    "Download the dataset from [Kaggle](https://www.kaggle.com/annecool37/museum-data) in the form of a CSV file. <br>\n",
    ">#### Step 2) \n",
    "Read in the dataset as a pandas DataFrame using pandas.read_csv."
   ]
  },
  {
   "cell_type": "code",
   "execution_count": 1,
   "metadata": {},
   "outputs": [
    {
     "data": {
      "text/html": [
       "<div>\n",
       "<style scoped>\n",
       "    .dataframe tbody tr th:only-of-type {\n",
       "        vertical-align: middle;\n",
       "    }\n",
       "\n",
       "    .dataframe tbody tr th {\n",
       "        vertical-align: top;\n",
       "    }\n",
       "\n",
       "    .dataframe thead th {\n",
       "        text-align: right;\n",
       "    }\n",
       "</style>\n",
       "<table border=\"1\" class=\"dataframe\">\n",
       "  <thead>\n",
       "    <tr style=\"text-align: right;\">\n",
       "      <th></th>\n",
       "      <th>Address</th>\n",
       "      <th>Description</th>\n",
       "      <th>FeatureCount</th>\n",
       "      <th>Fee</th>\n",
       "      <th>Langtitude</th>\n",
       "      <th>Latitude</th>\n",
       "      <th>LengthOfVisit</th>\n",
       "      <th>MuseumName</th>\n",
       "      <th>PhoneNum</th>\n",
       "      <th>Rank</th>\n",
       "      <th>...</th>\n",
       "      <th>review_pol_var</th>\n",
       "      <th>review_pol_mean</th>\n",
       "      <th>review_pol_max</th>\n",
       "      <th>review_pol_min</th>\n",
       "      <th>review_sub_var</th>\n",
       "      <th>review_sub_mean</th>\n",
       "      <th>review_sub_max</th>\n",
       "      <th>review_sub_min</th>\n",
       "      <th>descri_pol</th>\n",
       "      <th>descri_sub</th>\n",
       "    </tr>\n",
       "  </thead>\n",
       "  <tbody>\n",
       "    <tr>\n",
       "      <th>0</th>\n",
       "      <td>555 Pennsylvania Ave NW, Washington DC, DC 200...</td>\n",
       "      <td>Find out for yourself why everyone is calling ...</td>\n",
       "      <td>3.0</td>\n",
       "      <td>Yes</td>\n",
       "      <td>-77.019235</td>\n",
       "      <td>38.893138</td>\n",
       "      <td>2-3 hours</td>\n",
       "      <td>Newseum</td>\n",
       "      <td>+1 888-639-7386</td>\n",
       "      <td>8.0</td>\n",
       "      <td>...</td>\n",
       "      <td>0.023760</td>\n",
       "      <td>0.334677</td>\n",
       "      <td>0.611111</td>\n",
       "      <td>0.000000</td>\n",
       "      <td>0.014521</td>\n",
       "      <td>0.509036</td>\n",
       "      <td>0.754861</td>\n",
       "      <td>0.342857</td>\n",
       "      <td>0.490000</td>\n",
       "      <td>0.506667</td>\n",
       "    </tr>\n",
       "    <tr>\n",
       "      <th>4</th>\n",
       "      <td>1000 5th Ave, New York City, NY 10028-0198</td>\n",
       "      <td>At New York City's most visited museum and att...</td>\n",
       "      <td>12.0</td>\n",
       "      <td>Yes</td>\n",
       "      <td>-73.962928</td>\n",
       "      <td>40.779166</td>\n",
       "      <td>2-3 hours</td>\n",
       "      <td>The Metropolitan Museum of Art</td>\n",
       "      <td>1 212-535-7710</td>\n",
       "      <td>2.0</td>\n",
       "      <td>...</td>\n",
       "      <td>0.018057</td>\n",
       "      <td>0.318339</td>\n",
       "      <td>0.634375</td>\n",
       "      <td>0.127083</td>\n",
       "      <td>0.018280</td>\n",
       "      <td>0.537971</td>\n",
       "      <td>0.700000</td>\n",
       "      <td>0.291667</td>\n",
       "      <td>0.318182</td>\n",
       "      <td>0.477273</td>\n",
       "    </tr>\n",
       "    <tr>\n",
       "      <th>5</th>\n",
       "      <td>945 Magazine Street, New Orleans, LA 70130-3813</td>\n",
       "      <td>Founded by historian and author, Stephen Ambro...</td>\n",
       "      <td>11.0</td>\n",
       "      <td>NaN</td>\n",
       "      <td>-90.070086</td>\n",
       "      <td>29.943004</td>\n",
       "      <td>NaN</td>\n",
       "      <td>The National WWII Museum</td>\n",
       "      <td>+1 504-528-1944</td>\n",
       "      <td>1.0</td>\n",
       "      <td>...</td>\n",
       "      <td>0.010222</td>\n",
       "      <td>0.333493</td>\n",
       "      <td>0.500000</td>\n",
       "      <td>0.140783</td>\n",
       "      <td>0.019100</td>\n",
       "      <td>0.508205</td>\n",
       "      <td>0.804861</td>\n",
       "      <td>0.333333</td>\n",
       "      <td>0.000000</td>\n",
       "      <td>0.000000</td>\n",
       "    </tr>\n",
       "    <tr>\n",
       "      <th>6</th>\n",
       "      <td>2001 N Colorado Blvd, Denver, CO 80205-5798</td>\n",
       "      <td>The Denver Museum of Nature &amp; Science is the R...</td>\n",
       "      <td>0.0</td>\n",
       "      <td>NaN</td>\n",
       "      <td>-104.941020</td>\n",
       "      <td>39.769189</td>\n",
       "      <td>NaN</td>\n",
       "      <td>Denver Museum of Nature &amp; Science</td>\n",
       "      <td>303-370-6000</td>\n",
       "      <td>4.0</td>\n",
       "      <td>...</td>\n",
       "      <td>0.022625</td>\n",
       "      <td>0.429964</td>\n",
       "      <td>0.664286</td>\n",
       "      <td>0.192262</td>\n",
       "      <td>0.014845</td>\n",
       "      <td>0.584561</td>\n",
       "      <td>0.783333</td>\n",
       "      <td>0.438095</td>\n",
       "      <td>0.100000</td>\n",
       "      <td>0.400000</td>\n",
       "    </tr>\n",
       "    <tr>\n",
       "      <th>7</th>\n",
       "      <td>111 S Michigan Ave, Chicago, IL 60603-6488</td>\n",
       "      <td>This Classical Renaissance structure, guarded ...</td>\n",
       "      <td>5.0</td>\n",
       "      <td>Yes</td>\n",
       "      <td>-87.623724</td>\n",
       "      <td>41.879547</td>\n",
       "      <td>More than 3 hours</td>\n",
       "      <td>Art Institute of Chicago</td>\n",
       "      <td>312 443 3600</td>\n",
       "      <td>1.0</td>\n",
       "      <td>...</td>\n",
       "      <td>0.030203</td>\n",
       "      <td>0.299117</td>\n",
       "      <td>0.681333</td>\n",
       "      <td>0.125000</td>\n",
       "      <td>0.025380</td>\n",
       "      <td>0.530728</td>\n",
       "      <td>0.788333</td>\n",
       "      <td>0.266667</td>\n",
       "      <td>0.300000</td>\n",
       "      <td>0.337500</td>\n",
       "    </tr>\n",
       "  </tbody>\n",
       "</table>\n",
       "<p>5 rows × 223 columns</p>\n",
       "</div>"
      ],
      "text/plain": [
       "                                             Address  \\\n",
       "0  555 Pennsylvania Ave NW, Washington DC, DC 200...   \n",
       "4         1000 5th Ave, New York City, NY 10028-0198   \n",
       "5    945 Magazine Street, New Orleans, LA 70130-3813   \n",
       "6        2001 N Colorado Blvd, Denver, CO 80205-5798   \n",
       "7         111 S Michigan Ave, Chicago, IL 60603-6488   \n",
       "\n",
       "                                         Description  FeatureCount   Fee  \\\n",
       "0  Find out for yourself why everyone is calling ...           3.0  Yes    \n",
       "4  At New York City's most visited museum and att...          12.0  Yes    \n",
       "5  Founded by historian and author, Stephen Ambro...          11.0   NaN   \n",
       "6  The Denver Museum of Nature & Science is the R...           0.0   NaN   \n",
       "7  This Classical Renaissance structure, guarded ...           5.0  Yes    \n",
       "\n",
       "   Langtitude   Latitude       LengthOfVisit  \\\n",
       "0  -77.019235  38.893138          2-3 hours    \n",
       "4  -73.962928  40.779166          2-3 hours    \n",
       "5  -90.070086  29.943004                 NaN   \n",
       "6 -104.941020  39.769189                 NaN   \n",
       "7  -87.623724  41.879547  More than 3 hours    \n",
       "\n",
       "                          MuseumName         PhoneNum  Rank     ...      \\\n",
       "0                            Newseum  +1 888-639-7386   8.0     ...       \n",
       "4     The Metropolitan Museum of Art   1 212-535-7710   2.0     ...       \n",
       "5           The National WWII Museum  +1 504-528-1944   1.0     ...       \n",
       "6  Denver Museum of Nature & Science     303-370-6000   4.0     ...       \n",
       "7           Art Institute of Chicago     312 443 3600   1.0     ...       \n",
       "\n",
       "   review_pol_var  review_pol_mean  review_pol_max review_pol_min  \\\n",
       "0        0.023760         0.334677        0.611111       0.000000   \n",
       "4        0.018057         0.318339        0.634375       0.127083   \n",
       "5        0.010222         0.333493        0.500000       0.140783   \n",
       "6        0.022625         0.429964        0.664286       0.192262   \n",
       "7        0.030203         0.299117        0.681333       0.125000   \n",
       "\n",
       "  review_sub_var  review_sub_mean  review_sub_max  review_sub_min  descri_pol  \\\n",
       "0       0.014521         0.509036        0.754861        0.342857    0.490000   \n",
       "4       0.018280         0.537971        0.700000        0.291667    0.318182   \n",
       "5       0.019100         0.508205        0.804861        0.333333    0.000000   \n",
       "6       0.014845         0.584561        0.783333        0.438095    0.100000   \n",
       "7       0.025380         0.530728        0.788333        0.266667    0.300000   \n",
       "\n",
       "   descri_sub  \n",
       "0    0.506667  \n",
       "4    0.477273  \n",
       "5    0.000000  \n",
       "6    0.400000  \n",
       "7    0.337500  \n",
       "\n",
       "[5 rows x 223 columns]"
      ]
     },
     "execution_count": 1,
     "metadata": {},
     "output_type": "execute_result"
    }
   ],
   "source": [
    "# Import necessary libraries.\n",
    "import pandas as pd\n",
    "from pandas import *\n",
    "\n",
    "# Load in the data, using the first column as the index.\n",
    "df = pd.read_csv(\"tripadvisor_merged.csv\", index_col=0)\n",
    "\n",
    "# Display a sample of the resulting DataFrame:\n",
    "df.head()"
   ]
  },
  {
   "cell_type": "markdown",
   "metadata": {},
   "source": [
    "## 5. Exploring and Visualizing Data\n",
    "---"
   ]
  },
  {
   "cell_type": "markdown",
   "metadata": {},
   "source": [
    "Import necessary libraries:"
   ]
  },
  {
   "cell_type": "code",
   "execution_count": 2,
   "metadata": {},
   "outputs": [],
   "source": [
    "# Import plotting library\n",
    "import matplotlib.pyplot as plt\n",
    "# Set plots to be inline\n",
    "%matplotlib inline\n",
    "# Import colormapping sub-library\n",
    "from matplotlib import cm\n",
    "# Imports a library used to colorize output print\n",
    "from colorama import Fore"
   ]
  },
  {
   "cell_type": "markdown",
   "metadata": {},
   "source": [
    "<hr>\n",
    "## DataFrame Size"
   ]
  },
  {
   "cell_type": "code",
   "execution_count": 3,
   "metadata": {},
   "outputs": [
    {
     "name": "stdout",
     "output_type": "stream",
     "text": [
      "There are \u001b[35m223\u001b[30m columns in this dataset.\n"
     ]
    }
   ],
   "source": [
    "# Prints number of columns.\n",
    "print(\"There are \" + Fore.MAGENTA + str(df.columns.size) \\\n",
    "      + Fore.BLACK + \" columns in this dataset.\")"
   ]
  },
  {
   "cell_type": "code",
   "execution_count": 4,
   "metadata": {},
   "outputs": [
    {
     "name": "stdout",
     "output_type": "stream",
     "text": [
      "There are \u001b[35m1603\u001b[30m rows in this dataset.\n"
     ]
    }
   ],
   "source": [
    "# Prints number of rows.\n",
    "print(\"There are \" + Fore.MAGENTA + str(df.shape[0]) \\\n",
    "      + Fore.BLACK + \" rows in this dataset.\")"
   ]
  },
  {
   "cell_type": "markdown",
   "metadata": {},
   "source": [
    "<br>\n",
    "## Column Distributions"
   ]
  },
  {
   "cell_type": "markdown",
   "metadata": {},
   "source": [
    "<hr>\n",
    "#### Numeric Column Distributions (Statistics)"
   ]
  },
  {
   "cell_type": "markdown",
   "metadata": {},
   "source": [
    "Display statistics for all numeric columns:"
   ]
  },
  {
   "cell_type": "code",
   "execution_count": 5,
   "metadata": {},
   "outputs": [
    {
     "data": {
      "text/html": [
       "<div>\n",
       "<style scoped>\n",
       "    .dataframe tbody tr th:only-of-type {\n",
       "        vertical-align: middle;\n",
       "    }\n",
       "\n",
       "    .dataframe tbody tr th {\n",
       "        vertical-align: top;\n",
       "    }\n",
       "\n",
       "    .dataframe thead th {\n",
       "        text-align: right;\n",
       "    }\n",
       "</style>\n",
       "<table border=\"1\" class=\"dataframe\">\n",
       "  <thead>\n",
       "    <tr style=\"text-align: right;\">\n",
       "      <th></th>\n",
       "      <th>FeatureCount</th>\n",
       "      <th>Langtitude</th>\n",
       "      <th>Latitude</th>\n",
       "      <th>Rank</th>\n",
       "      <th>Rating</th>\n",
       "      <th>ReviewCount</th>\n",
       "      <th>TotalThingsToDo</th>\n",
       "      <th>RankPercentage</th>\n",
       "      <th>Ancient Ruins</th>\n",
       "      <th>Architectural Buildings</th>\n",
       "      <th>...</th>\n",
       "      <th>review_pol_var</th>\n",
       "      <th>review_pol_mean</th>\n",
       "      <th>review_pol_max</th>\n",
       "      <th>review_pol_min</th>\n",
       "      <th>review_sub_var</th>\n",
       "      <th>review_sub_mean</th>\n",
       "      <th>review_sub_max</th>\n",
       "      <th>review_sub_min</th>\n",
       "      <th>descri_pol</th>\n",
       "      <th>descri_sub</th>\n",
       "    </tr>\n",
       "  </thead>\n",
       "  <tbody>\n",
       "    <tr>\n",
       "      <th>count</th>\n",
       "      <td>1603.000000</td>\n",
       "      <td>1559.000000</td>\n",
       "      <td>1559.000000</td>\n",
       "      <td>1603.000000</td>\n",
       "      <td>1603.000000</td>\n",
       "      <td>1603.000000</td>\n",
       "      <td>1603.000000</td>\n",
       "      <td>1603.000000</td>\n",
       "      <td>1603.000000</td>\n",
       "      <td>1603.000000</td>\n",
       "      <td>...</td>\n",
       "      <td>1603.000000</td>\n",
       "      <td>1603.000000</td>\n",
       "      <td>1603.000000</td>\n",
       "      <td>1603.000000</td>\n",
       "      <td>1603.000000</td>\n",
       "      <td>1603.000000</td>\n",
       "      <td>1603.000000</td>\n",
       "      <td>1603.000000</td>\n",
       "      <td>1161.000000</td>\n",
       "      <td>1161.000000</td>\n",
       "    </tr>\n",
       "    <tr>\n",
       "      <th>mean</th>\n",
       "      <td>1.007486</td>\n",
       "      <td>-51.444424</td>\n",
       "      <td>37.955380</td>\n",
       "      <td>16.555209</td>\n",
       "      <td>4.426700</td>\n",
       "      <td>1540.467249</td>\n",
       "      <td>243.429195</td>\n",
       "      <td>9.297117</td>\n",
       "      <td>0.001248</td>\n",
       "      <td>0.006862</td>\n",
       "      <td>...</td>\n",
       "      <td>0.028062</td>\n",
       "      <td>0.318480</td>\n",
       "      <td>0.606531</td>\n",
       "      <td>0.043259</td>\n",
       "      <td>0.020067</td>\n",
       "      <td>0.531908</td>\n",
       "      <td>0.772047</td>\n",
       "      <td>0.299063</td>\n",
       "      <td>0.179419</td>\n",
       "      <td>0.397966</td>\n",
       "    </tr>\n",
       "    <tr>\n",
       "      <th>std</th>\n",
       "      <td>2.149806</td>\n",
       "      <td>65.300725</td>\n",
       "      <td>13.872091</td>\n",
       "      <td>28.900707</td>\n",
       "      <td>0.285016</td>\n",
       "      <td>3906.633803</td>\n",
       "      <td>308.115561</td>\n",
       "      <td>10.134265</td>\n",
       "      <td>0.035311</td>\n",
       "      <td>0.082579</td>\n",
       "      <td>...</td>\n",
       "      <td>0.016917</td>\n",
       "      <td>0.072680</td>\n",
       "      <td>0.144689</td>\n",
       "      <td>0.134946</td>\n",
       "      <td>0.011234</td>\n",
       "      <td>0.057590</td>\n",
       "      <td>0.108018</td>\n",
       "      <td>0.107727</td>\n",
       "      <td>0.185510</td>\n",
       "      <td>0.221829</td>\n",
       "    </tr>\n",
       "    <tr>\n",
       "      <th>min</th>\n",
       "      <td>0.000000</td>\n",
       "      <td>-159.715000</td>\n",
       "      <td>-45.876974</td>\n",
       "      <td>1.000000</td>\n",
       "      <td>2.500000</td>\n",
       "      <td>32.000000</td>\n",
       "      <td>1.000000</td>\n",
       "      <td>0.069300</td>\n",
       "      <td>0.000000</td>\n",
       "      <td>0.000000</td>\n",
       "      <td>...</td>\n",
       "      <td>0.001366</td>\n",
       "      <td>0.064928</td>\n",
       "      <td>0.285000</td>\n",
       "      <td>-0.750000</td>\n",
       "      <td>0.001137</td>\n",
       "      <td>0.325094</td>\n",
       "      <td>0.459524</td>\n",
       "      <td>0.000000</td>\n",
       "      <td>-1.000000</td>\n",
       "      <td>0.000000</td>\n",
       "    </tr>\n",
       "    <tr>\n",
       "      <th>25%</th>\n",
       "      <td>0.000000</td>\n",
       "      <td>-94.288652</td>\n",
       "      <td>33.789750</td>\n",
       "      <td>2.000000</td>\n",
       "      <td>4.500000</td>\n",
       "      <td>213.000000</td>\n",
       "      <td>48.000000</td>\n",
       "      <td>2.941176</td>\n",
       "      <td>0.000000</td>\n",
       "      <td>0.000000</td>\n",
       "      <td>...</td>\n",
       "      <td>0.016504</td>\n",
       "      <td>0.273066</td>\n",
       "      <td>0.500000</td>\n",
       "      <td>-0.017500</td>\n",
       "      <td>0.011966</td>\n",
       "      <td>0.494939</td>\n",
       "      <td>0.700000</td>\n",
       "      <td>0.249405</td>\n",
       "      <td>0.050830</td>\n",
       "      <td>0.250000</td>\n",
       "    </tr>\n",
       "    <tr>\n",
       "      <th>50%</th>\n",
       "      <td>0.000000</td>\n",
       "      <td>-78.885548</td>\n",
       "      <td>39.259319</td>\n",
       "      <td>6.000000</td>\n",
       "      <td>4.500000</td>\n",
       "      <td>510.000000</td>\n",
       "      <td>142.000000</td>\n",
       "      <td>6.250000</td>\n",
       "      <td>0.000000</td>\n",
       "      <td>0.000000</td>\n",
       "      <td>...</td>\n",
       "      <td>0.024182</td>\n",
       "      <td>0.319744</td>\n",
       "      <td>0.596875</td>\n",
       "      <td>0.063194</td>\n",
       "      <td>0.017617</td>\n",
       "      <td>0.530021</td>\n",
       "      <td>0.758333</td>\n",
       "      <td>0.310385</td>\n",
       "      <td>0.161111</td>\n",
       "      <td>0.400000</td>\n",
       "    </tr>\n",
       "    <tr>\n",
       "      <th>75%</th>\n",
       "      <td>1.000000</td>\n",
       "      <td>2.282347</td>\n",
       "      <td>44.524610</td>\n",
       "      <td>19.000000</td>\n",
       "      <td>4.500000</td>\n",
       "      <td>1257.000000</td>\n",
       "      <td>314.500000</td>\n",
       "      <td>12.500000</td>\n",
       "      <td>0.000000</td>\n",
       "      <td>0.000000</td>\n",
       "      <td>...</td>\n",
       "      <td>0.034966</td>\n",
       "      <td>0.366921</td>\n",
       "      <td>0.700000</td>\n",
       "      <td>0.133333</td>\n",
       "      <td>0.025365</td>\n",
       "      <td>0.568249</td>\n",
       "      <td>0.833333</td>\n",
       "      <td>0.372569</td>\n",
       "      <td>0.281818</td>\n",
       "      <td>0.530357</td>\n",
       "    </tr>\n",
       "    <tr>\n",
       "      <th>max</th>\n",
       "      <td>27.000000</td>\n",
       "      <td>176.260300</td>\n",
       "      <td>67.273312</td>\n",
       "      <td>397.000000</td>\n",
       "      <td>5.000000</td>\n",
       "      <td>63112.000000</td>\n",
       "      <td>2279.000000</td>\n",
       "      <td>100.000000</td>\n",
       "      <td>1.000000</td>\n",
       "      <td>1.000000</td>\n",
       "      <td>...</td>\n",
       "      <td>0.154811</td>\n",
       "      <td>0.558981</td>\n",
       "      <td>1.000000</td>\n",
       "      <td>0.400000</td>\n",
       "      <td>0.074650</td>\n",
       "      <td>0.762601</td>\n",
       "      <td>1.000000</td>\n",
       "      <td>0.650000</td>\n",
       "      <td>1.000000</td>\n",
       "      <td>1.000000</td>\n",
       "    </tr>\n",
       "  </tbody>\n",
       "</table>\n",
       "<p>8 rows × 215 columns</p>\n",
       "</div>"
      ],
      "text/plain": [
       "       FeatureCount   Langtitude     Latitude         Rank       Rating  \\\n",
       "count   1603.000000  1559.000000  1559.000000  1603.000000  1603.000000   \n",
       "mean       1.007486   -51.444424    37.955380    16.555209     4.426700   \n",
       "std        2.149806    65.300725    13.872091    28.900707     0.285016   \n",
       "min        0.000000  -159.715000   -45.876974     1.000000     2.500000   \n",
       "25%        0.000000   -94.288652    33.789750     2.000000     4.500000   \n",
       "50%        0.000000   -78.885548    39.259319     6.000000     4.500000   \n",
       "75%        1.000000     2.282347    44.524610    19.000000     4.500000   \n",
       "max       27.000000   176.260300    67.273312   397.000000     5.000000   \n",
       "\n",
       "        ReviewCount  TotalThingsToDo  RankPercentage  Ancient Ruins  \\\n",
       "count   1603.000000      1603.000000     1603.000000    1603.000000   \n",
       "mean    1540.467249       243.429195        9.297117       0.001248   \n",
       "std     3906.633803       308.115561       10.134265       0.035311   \n",
       "min       32.000000         1.000000        0.069300       0.000000   \n",
       "25%      213.000000        48.000000        2.941176       0.000000   \n",
       "50%      510.000000       142.000000        6.250000       0.000000   \n",
       "75%     1257.000000       314.500000       12.500000       0.000000   \n",
       "max    63112.000000      2279.000000      100.000000       1.000000   \n",
       "\n",
       "       Architectural Buildings     ...       review_pol_var  review_pol_mean  \\\n",
       "count              1603.000000     ...          1603.000000      1603.000000   \n",
       "mean                  0.006862     ...             0.028062         0.318480   \n",
       "std                   0.082579     ...             0.016917         0.072680   \n",
       "min                   0.000000     ...             0.001366         0.064928   \n",
       "25%                   0.000000     ...             0.016504         0.273066   \n",
       "50%                   0.000000     ...             0.024182         0.319744   \n",
       "75%                   0.000000     ...             0.034966         0.366921   \n",
       "max                   1.000000     ...             0.154811         0.558981   \n",
       "\n",
       "       review_pol_max  review_pol_min  review_sub_var  review_sub_mean  \\\n",
       "count     1603.000000     1603.000000     1603.000000      1603.000000   \n",
       "mean         0.606531        0.043259        0.020067         0.531908   \n",
       "std          0.144689        0.134946        0.011234         0.057590   \n",
       "min          0.285000       -0.750000        0.001137         0.325094   \n",
       "25%          0.500000       -0.017500        0.011966         0.494939   \n",
       "50%          0.596875        0.063194        0.017617         0.530021   \n",
       "75%          0.700000        0.133333        0.025365         0.568249   \n",
       "max          1.000000        0.400000        0.074650         0.762601   \n",
       "\n",
       "       review_sub_max  review_sub_min   descri_pol   descri_sub  \n",
       "count     1603.000000     1603.000000  1161.000000  1161.000000  \n",
       "mean         0.772047        0.299063     0.179419     0.397966  \n",
       "std          0.108018        0.107727     0.185510     0.221829  \n",
       "min          0.459524        0.000000    -1.000000     0.000000  \n",
       "25%          0.700000        0.249405     0.050830     0.250000  \n",
       "50%          0.758333        0.310385     0.161111     0.400000  \n",
       "75%          0.833333        0.372569     0.281818     0.530357  \n",
       "max          1.000000        0.650000     1.000000     1.000000  \n",
       "\n",
       "[8 rows x 215 columns]"
      ]
     },
     "execution_count": 5,
     "metadata": {},
     "output_type": "execute_result"
    }
   ],
   "source": [
    "# Prints out statistics for all numeric columns in DataFrame:\n",
    "df.describe()"
   ]
  },
  {
   "cell_type": "markdown",
   "metadata": {},
   "source": [
    "<hr>\n",
    "**Visualizing Column Distributions**\n",
    "\n",
    "After seeing the distributions in numeric forms from ***df.describe()***, let's now take a look at the visual representations.\n",
    "<br><br>\n",
    "**Select columns:**\n",
    "> **Numeric:** <br>\n",
    "> \"Rank\" <br>\n",
    "> \"Rating\" <br>\n",
    "\n",
    "> **Categorical:** <br>\n",
    "> \"Country\" <br>\n",
    "> \"State\" <br>"
   ]
  },
  {
   "cell_type": "markdown",
   "metadata": {},
   "source": [
    "<hr>\n",
    "<span style=\"margin:auto;display:table;\"> <b>Numeric Columns</b></span> \n",
    "<hr>"
   ]
  },
  {
   "cell_type": "markdown",
   "metadata": {},
   "source": [
    "Plotting the **Rank** column's distribution using matplotlib:"
   ]
  },
  {
   "cell_type": "code",
   "execution_count": 6,
   "metadata": {},
   "outputs": [
    {
     "data": {
      "image/png": "[encoded data removed]",
      "text/plain": [
       "<Figure size 720x288 with 1 Axes>"
      ]
     },
     "metadata": {},
     "output_type": "display_data"
    }
   ],
   "source": [
    "# Create new matplotlib figure.\n",
    "fig1 = plt.figure(figsize=(10, 4))\n",
    "# Add sub-plot to figure.\n",
    "axes1 = fig1.add_subplot(1, 1, 1)\n",
    "# Set title.\n",
    "axes1.set_title(\"Distribution of 'Rank' Column\")\n",
    "# Show rank distribution.\n",
    "plt.boxplot(df['Rank'], vert=False)\n",
    "# Set empty yticks to disable axis\n",
    "plt.yticks([])\n",
    "# Set x-label\n",
    "plt.xlabel('Rank')\n",
    "# Display only the plot\n",
    "plt.show()"
   ]
  },
  {
   "cell_type": "markdown",
   "metadata": {},
   "source": [
    "As you can see, the majority of Rank values fell below 50, with a maximum near 400."
   ]
  },
  {
   "cell_type": "markdown",
   "metadata": {},
   "source": [
    "<hr>\n",
    "Plotting the **Rating** column's distribution using pandas built-in plotting functions:\n",
    "\n",
    ">***Note:*** *As seen in the distribution below, there are very few badly-rated museums in this dataset. Implications of this will be discussed later.*"
   ]
  },
  {
   "cell_type": "code",
   "execution_count": 7,
   "metadata": {},
   "outputs": [
    {
     "data": {
      "image/png": "[encoded data removed]",
      "text/plain": [
       "<Figure size 432x288 with 1 Axes>"
      ]
     },
     "metadata": {},
     "output_type": "display_data"
    }
   ],
   "source": [
    "# Defines color map\n",
    "cmap = cm.get_cmap('Spectral')\n",
    "\n",
    "# Creates axes variable, so that we can modify after \n",
    "# the intialization of the plot\n",
    "axes2 = df['Rating'].value_counts().plot.bar\\\n",
    "(title=\"Distribution of 'Rating' Column\", colormap=cmap)\n",
    "\n",
    "# Set x-label\n",
    "axes2.set_xlabel(\"Rating Values\")\n",
    "# Set y-label\n",
    "axes2.set_ylabel(\"Number of Rows\")\n",
    "\n",
    "# Display only the plot\n",
    "plt.show()"
   ]
  },
  {
   "cell_type": "markdown",
   "metadata": {},
   "source": [
    "<hr>\n",
    "<span style=\"margin:auto;display:table;\"> <b>Categorical Columns</b></span> \n",
    "<hr>"
   ]
  },
  {
   "cell_type": "markdown",
   "metadata": {},
   "source": [
    "Plotting the **Country** column using pandas built-in plotting functions:"
   ]
  },
  {
   "cell_type": "code",
   "execution_count": 8,
   "metadata": {},
   "outputs": [
    {
     "name": "stdout",
     "output_type": "stream",
     "text": [
      "\u001b[35mUSA      981\n",
      "Other    622\n",
      "Name: Country, dtype: int64\n"
     ]
    },
    {
     "data": {
      "image/png": "[encoded data removed]",
      "text/plain": [
       "<Figure size 360x360 with 1 Axes>"
      ]
     },
     "metadata": {},
     "output_type": "display_data"
    }
   ],
   "source": [
    "# Print value counts of different countries in the dataset.\n",
    "print(Fore.MAGENTA + str(df['Country'].value_counts()))\n",
    "\n",
    "# Create a pie chart displaying the country distribution\n",
    "df['Country'].value_counts().plot.pie(figsize=(5,5), \\\n",
    "                cmap=cmap, title=\"Distribution of 'Country' Column\")\n",
    "\n",
    "# Display only the plot\n",
    "plt.show()"
   ]
  },
  {
   "cell_type": "markdown",
   "metadata": {},
   "source": [
    "Plotting the **State** column using pandas built-in plotting functions:"
   ]
  },
  {
   "cell_type": "code",
   "execution_count": 9,
   "metadata": {},
   "outputs": [
    {
     "name": "stdout",
     "output_type": "stream",
     "text": [
      "\u001b[35mFL    89\n",
      "CA    81\n",
      "TX    66\n",
      "NY    60\n",
      "PA    39\n",
      "VA    34\n",
      "TN    32\n",
      "MA    32\n",
      "AZ    32\n",
      "Name: State, dtype: int64\n"
     ]
    },
    {
     "data": {
      "image/png": "[encoded data removed]",
      "text/plain": [
       "<Figure size 432x288 with 1 Axes>"
      ]
     },
     "metadata": {},
     "output_type": "display_data"
    }
   ],
   "source": [
    "# Shows distribution of states in the dataset.\n",
    "# Ignore the first value, as it's for all non-USA rows.\n",
    "print(Fore.MAGENTA + str(df['State'].value_counts()[1:10]))\n",
    "\n",
    "# Creates axes variable, so that we can modify after the \n",
    "# intialization of the plot\n",
    "axes3 = df['State'].value_counts()[1:20]\\\n",
    ".plot.bar(cmap=cmap, title=\"Most Frequently Occuring States in DataFrame\")\n",
    "\n",
    "# Sets x-label\n",
    "axes3.set_xlabel(\"State\")\n",
    "# Sets y-label\n",
    "axes3.set_ylabel(\"Number of Rows\")\n",
    "# Displays only the plot\n",
    "plt.show()"
   ]
  },
  {
   "cell_type": "markdown",
   "metadata": {},
   "source": [
    "Creating a new **City** column:"
   ]
  },
  {
   "cell_type": "code",
   "execution_count": 10,
   "metadata": {},
   "outputs": [
    {
     "name": "stdout",
     "output_type": "stream",
     "text": [
      "\u001b[35m0    555 Pennsylvania Ave NW, Washington DC, DC 200...\n",
      "4           1000 5th Ave, New York City, NY 10028-0198\n",
      "5      945 Magazine Street, New Orleans, LA 70130-3813\n",
      "6          2001 N Colorado Blvd, Denver, CO 80205-5798\n",
      "7           111 S Michigan Ave, Chicago, IL 60603-6488\n",
      "Name: Address, dtype: object\n"
     ]
    }
   ],
   "source": [
    "# Displays a sample of the Address column.\n",
    "print(Fore.MAGENTA + str(df['Address'].head()))"
   ]
  },
  {
   "cell_type": "code",
   "execution_count": 11,
   "metadata": {},
   "outputs": [
    {
     "name": "stdout",
     "output_type": "stream",
     "text": [
      "\u001b[35m0     Washington DC\n",
      "4     New York City\n",
      "5       New Orleans\n",
      "6            Denver\n",
      "7           Chicago\n",
      "Name: City, dtype: object\n",
      "\n",
      "\n",
      "\u001b[30mThere are \u001b[35m1097\u001b[30m cities in this dataset and \u001b[35m51\u001b[30m states.\n"
     ]
    }
   ],
   "source": [
    "# Creates new City column based on the Address column.\n",
    "df['City'] = df['Address'].apply(lambda x: x.split(',')[1])\n",
    "\n",
    "\n",
    "# Displays a sample of the new City column.\n",
    "print(Fore.MAGENTA + str(df['City'].head()))\n",
    "\n",
    "# Print out empty lines for spacing purposes\n",
    "print(\"\")\n",
    "print(\"\")\n",
    "\n",
    "# Prints number of unique values of cities and states.\n",
    "print(Fore.BLACK + \"There are \" + Fore.MAGENTA + str(df['City'].nunique())\\\n",
    "      + Fore.BLACK + \" cities in this dataset and \" \\\n",
    "      + Fore.MAGENTA +  str(df['State'].nunique()) \\\n",
    "      + Fore.BLACK + \" states.\")"
   ]
  },
  {
   "cell_type": "markdown",
   "metadata": {},
   "source": [
    "<hr>\n",
    "<span style=\"margin:auto;display:table;\"> <b>Binary Columns</b></span> \n",
    "\n",
    "<hr>\n",
    "#### What are \"Features\"?\n",
    "The \"Feature\" columns are binary columns showing whether a musuem *does* or *doesn't* have a certain\n",
    "feature (see column names displayed below). Though none of the columns are explicitly called \"Feature\", there is a \"FeatureCount\" column that totals up the number of these \"features\" per museum. We will use the \"FeatureCount\" in our analysis, so it is beneficial to know where that total comes from."
   ]
  },
  {
   "cell_type": "code",
   "execution_count": 12,
   "metadata": {},
   "outputs": [
    {
     "name": "stdout",
     "output_type": "stream",
     "text": [
      "\u001b[35mIndex(['Ancient Ruins', 'Architectural Buildings', 'Arenas & Stadiums',\n",
      "       'Art Galleries', 'Art Museums', 'Auto Race Tracks', 'Ballets',\n",
      "       'Battlefields', 'Biking Trails', 'Bodies of Water', 'Bridges',\n",
      "       'Castles', 'Cemeteries', 'Children's Museums', 'City Tours',\n",
      "       'Classes & Workshops', 'Coffeehouses', 'Concerts & Shows',\n",
      "       'Cultural Tours', 'Educational sites', 'Factory Tours',\n",
      "       'Flea & Street Markets', 'Food & Drink', 'Fun & Games', 'Gardens',\n",
      "       'Geologic Formations', 'Gift & Specialty Shops', 'Government Buildings',\n",
      "       'Historic Sites', 'Historic Walking Areas',\n",
      "       'Historical & Heritage Tours', 'History Museums', 'Islands',\n",
      "       'Lessons & Workshops', 'Libraries', 'Lighthouses',\n",
      "       'Literary, Art & Music Tours', 'Lookouts',\n",
      "       'Military Bases & Facilities', 'Military Museums', 'Mines',\n",
      "       'Monuments & Statues', 'Movie Theaters', 'Museums', 'National Parks',\n",
      "       'Natural History Museums', 'Nature & Parks', 'Nature & Wildlife Areas',\n",
      "       'Neighborhoods', 'Night Tours', 'Nightlife',\n",
      "       'Observation Decks & Towers', 'Observatories & Planetariums',\n",
      "       'Other Fun & Games', 'Other Outdoor Activities', 'Outdoor Activities',\n",
      "       'Piers & Boardwalks', 'Playgrounds', 'Points of Interest & Landmarks',\n",
      "       'Private Tours', 'Sacred & Religious Sites', 'Scenic Railroads',\n",
      "       'Scenic Walking Areas', 'Science Museums',\n",
      "       'Self-Guided Tours & Rentals', 'Ships', 'Shopping',\n",
      "       'Sights & Landmarks', 'Specialty Museums', 'Sports Complexes',\n",
      "       'State Parks', 'Theaters', 'Tours', 'Tramways', 'Transportation',\n",
      "       'Traveler Resources', 'Valleys', 'Visitor Centers', 'Volcanos',\n",
      "       'Walking Tours', 'Wineries & Vineyards',\n",
      "       'Zipline & Aerial Adventure Parks', 'Zoos & Aquariums'],\n",
      "      dtype='object')\n"
     ]
    },
    {
     "data": {
      "text/html": [
       "<div>\n",
       "<style scoped>\n",
       "    .dataframe tbody tr th:only-of-type {\n",
       "        vertical-align: middle;\n",
       "    }\n",
       "\n",
       "    .dataframe tbody tr th {\n",
       "        vertical-align: top;\n",
       "    }\n",
       "\n",
       "    .dataframe thead th {\n",
       "        text-align: right;\n",
       "    }\n",
       "</style>\n",
       "<table border=\"1\" class=\"dataframe\">\n",
       "  <thead>\n",
       "    <tr style=\"text-align: right;\">\n",
       "      <th></th>\n",
       "      <th>Ancient Ruins</th>\n",
       "      <th>Architectural Buildings</th>\n",
       "      <th>Arenas &amp; Stadiums</th>\n",
       "      <th>Art Galleries</th>\n",
       "      <th>Art Museums</th>\n",
       "      <th>Auto Race Tracks</th>\n",
       "      <th>Ballets</th>\n",
       "      <th>Battlefields</th>\n",
       "      <th>Biking Trails</th>\n",
       "      <th>Bodies of Water</th>\n",
       "      <th>...</th>\n",
       "      <th>Tramways</th>\n",
       "      <th>Transportation</th>\n",
       "      <th>Traveler Resources</th>\n",
       "      <th>Valleys</th>\n",
       "      <th>Visitor Centers</th>\n",
       "      <th>Volcanos</th>\n",
       "      <th>Walking Tours</th>\n",
       "      <th>Wineries &amp; Vineyards</th>\n",
       "      <th>Zipline &amp; Aerial Adventure Parks</th>\n",
       "      <th>Zoos &amp; Aquariums</th>\n",
       "    </tr>\n",
       "  </thead>\n",
       "  <tbody>\n",
       "    <tr>\n",
       "      <th>0</th>\n",
       "      <td>0</td>\n",
       "      <td>0</td>\n",
       "      <td>0</td>\n",
       "      <td>0</td>\n",
       "      <td>0</td>\n",
       "      <td>0</td>\n",
       "      <td>0</td>\n",
       "      <td>0</td>\n",
       "      <td>0</td>\n",
       "      <td>0</td>\n",
       "      <td>...</td>\n",
       "      <td>0</td>\n",
       "      <td>0</td>\n",
       "      <td>0</td>\n",
       "      <td>0</td>\n",
       "      <td>0</td>\n",
       "      <td>0</td>\n",
       "      <td>0</td>\n",
       "      <td>0</td>\n",
       "      <td>0</td>\n",
       "      <td>0</td>\n",
       "    </tr>\n",
       "    <tr>\n",
       "      <th>4</th>\n",
       "      <td>0</td>\n",
       "      <td>0</td>\n",
       "      <td>0</td>\n",
       "      <td>0</td>\n",
       "      <td>1</td>\n",
       "      <td>0</td>\n",
       "      <td>0</td>\n",
       "      <td>0</td>\n",
       "      <td>0</td>\n",
       "      <td>0</td>\n",
       "      <td>...</td>\n",
       "      <td>0</td>\n",
       "      <td>0</td>\n",
       "      <td>0</td>\n",
       "      <td>0</td>\n",
       "      <td>0</td>\n",
       "      <td>0</td>\n",
       "      <td>0</td>\n",
       "      <td>0</td>\n",
       "      <td>0</td>\n",
       "      <td>0</td>\n",
       "    </tr>\n",
       "    <tr>\n",
       "      <th>5</th>\n",
       "      <td>0</td>\n",
       "      <td>0</td>\n",
       "      <td>0</td>\n",
       "      <td>0</td>\n",
       "      <td>0</td>\n",
       "      <td>0</td>\n",
       "      <td>0</td>\n",
       "      <td>0</td>\n",
       "      <td>0</td>\n",
       "      <td>0</td>\n",
       "      <td>...</td>\n",
       "      <td>0</td>\n",
       "      <td>0</td>\n",
       "      <td>0</td>\n",
       "      <td>0</td>\n",
       "      <td>0</td>\n",
       "      <td>0</td>\n",
       "      <td>0</td>\n",
       "      <td>0</td>\n",
       "      <td>0</td>\n",
       "      <td>0</td>\n",
       "    </tr>\n",
       "    <tr>\n",
       "      <th>6</th>\n",
       "      <td>0</td>\n",
       "      <td>0</td>\n",
       "      <td>0</td>\n",
       "      <td>0</td>\n",
       "      <td>0</td>\n",
       "      <td>0</td>\n",
       "      <td>0</td>\n",
       "      <td>0</td>\n",
       "      <td>0</td>\n",
       "      <td>0</td>\n",
       "      <td>...</td>\n",
       "      <td>0</td>\n",
       "      <td>0</td>\n",
       "      <td>0</td>\n",
       "      <td>0</td>\n",
       "      <td>0</td>\n",
       "      <td>0</td>\n",
       "      <td>0</td>\n",
       "      <td>0</td>\n",
       "      <td>0</td>\n",
       "      <td>0</td>\n",
       "    </tr>\n",
       "    <tr>\n",
       "      <th>7</th>\n",
       "      <td>0</td>\n",
       "      <td>0</td>\n",
       "      <td>0</td>\n",
       "      <td>0</td>\n",
       "      <td>1</td>\n",
       "      <td>0</td>\n",
       "      <td>0</td>\n",
       "      <td>0</td>\n",
       "      <td>0</td>\n",
       "      <td>0</td>\n",
       "      <td>...</td>\n",
       "      <td>0</td>\n",
       "      <td>0</td>\n",
       "      <td>0</td>\n",
       "      <td>0</td>\n",
       "      <td>0</td>\n",
       "      <td>0</td>\n",
       "      <td>0</td>\n",
       "      <td>0</td>\n",
       "      <td>0</td>\n",
       "      <td>0</td>\n",
       "    </tr>\n",
       "  </tbody>\n",
       "</table>\n",
       "<p>5 rows × 83 columns</p>\n",
       "</div>"
      ],
      "text/plain": [
       "   Ancient Ruins  Architectural Buildings  Arenas & Stadiums  Art Galleries  \\\n",
       "0              0                        0                  0              0   \n",
       "4              0                        0                  0              0   \n",
       "5              0                        0                  0              0   \n",
       "6              0                        0                  0              0   \n",
       "7              0                        0                  0              0   \n",
       "\n",
       "   Art Museums  Auto Race Tracks  Ballets  Battlefields  Biking Trails  \\\n",
       "0            0                 0        0             0              0   \n",
       "4            1                 0        0             0              0   \n",
       "5            0                 0        0             0              0   \n",
       "6            0                 0        0             0              0   \n",
       "7            1                 0        0             0              0   \n",
       "\n",
       "   Bodies of Water        ...         Tramways  Transportation  \\\n",
       "0                0        ...                0               0   \n",
       "4                0        ...                0               0   \n",
       "5                0        ...                0               0   \n",
       "6                0        ...                0               0   \n",
       "7                0        ...                0               0   \n",
       "\n",
       "   Traveler Resources  Valleys  Visitor Centers  Volcanos  Walking Tours  \\\n",
       "0                   0        0                0         0              0   \n",
       "4                   0        0                0         0              0   \n",
       "5                   0        0                0         0              0   \n",
       "6                   0        0                0         0              0   \n",
       "7                   0        0                0         0              0   \n",
       "\n",
       "   Wineries & Vineyards  Zipline & Aerial Adventure Parks  Zoos & Aquariums  \n",
       "0                     0                                 0                 0  \n",
       "4                     0                                 0                 0  \n",
       "5                     0                                 0                 0  \n",
       "6                     0                                 0                 0  \n",
       "7                     0                                 0                 0  \n",
       "\n",
       "[5 rows x 83 columns]"
      ]
     },
     "execution_count": 12,
     "metadata": {},
     "output_type": "execute_result"
    }
   ],
   "source": [
    "# Prints possible features.\n",
    "print(Fore.MAGENTA + str(df.iloc[:,16:99].columns))\n",
    "\n",
    "# Displays a subset of the feature columns.\n",
    "df.iloc[:,16:99].head()"
   ]
  },
  {
   "cell_type": "markdown",
   "metadata": {},
   "source": [
    "<hr>\n",
    "#### Columns derived from text-mining (aka \"feature engineering\")\n",
    "\n",
    "Though the author of the dataset calls these columns the result of \"feature engineering\", (which they are), I am going to call them the result of text-mining, (which is also true), so as not to confuse the \"feature-engineered\" columns with the \"features\" columns.\n",
    "\n",
    "> **How were these columns created?** <br>\n",
    "> If you look toward the front of the DataFrame, you'll see a column called \"Description\" (displayed below). The author of the dataset took all of the Description values for all museums and used text-mining techniques to find the most frequently occuring phrases. <br>\n",
    "> The author then went through each museum Description and, for each phrase, assigned a binary value to it: 0 if the Description didn't include the phrase, and 1 if it did. <br>\n",
    "> This is how columns numbered 99 through 198 were created."
   ]
  },
  {
   "cell_type": "code",
   "execution_count": 13,
   "metadata": {},
   "outputs": [
    {
     "data": {
      "text/plain": [
       "0    Find out for yourself why everyone is calling ...\n",
       "4    At New York City's most visited museum and att...\n",
       "5    Founded by historian and author, Stephen Ambro...\n",
       "6    The Denver Museum of Nature & Science is the R...\n",
       "7    This Classical Renaissance structure, guarded ...\n",
       "Name: Description, dtype: object"
      ]
     },
     "execution_count": 13,
     "metadata": {},
     "output_type": "execute_result"
    }
   ],
   "source": [
    "# Displays a sample of the Description column.\n",
    "df['Description'].head()"
   ]
  },
  {
   "cell_type": "code",
   "execution_count": 14,
   "metadata": {},
   "outputs": [
    {
     "data": {
      "text/html": [
       "<div>\n",
       "<style scoped>\n",
       "    .dataframe tbody tr th:only-of-type {\n",
       "        vertical-align: middle;\n",
       "    }\n",
       "\n",
       "    .dataframe tbody tr th {\n",
       "        vertical-align: top;\n",
       "    }\n",
       "\n",
       "    .dataframe thead th {\n",
       "        text-align: right;\n",
       "    }\n",
       "</style>\n",
       "<table border=\"1\" class=\"dataframe\">\n",
       "  <thead>\n",
       "    <tr style=\"text-align: right;\">\n",
       "      <th></th>\n",
       "      <th>on display</th>\n",
       "      <th>gift shop</th>\n",
       "      <th>rainy day</th>\n",
       "      <th>couple of hours</th>\n",
       "      <th>all ages</th>\n",
       "      <th>special exhibits</th>\n",
       "      <th>few hours</th>\n",
       "      <th>two hours</th>\n",
       "      <th>exhibits</th>\n",
       "      <th>well worth a visit</th>\n",
       "      <th>permanent collection</th>\n",
       "    </tr>\n",
       "  </thead>\n",
       "  <tbody>\n",
       "    <tr>\n",
       "      <th>0</th>\n",
       "      <td>0</td>\n",
       "      <td>0</td>\n",
       "      <td>0</td>\n",
       "      <td>0</td>\n",
       "      <td>0</td>\n",
       "      <td>0</td>\n",
       "      <td>0</td>\n",
       "      <td>0</td>\n",
       "      <td>0</td>\n",
       "      <td>0</td>\n",
       "      <td>0</td>\n",
       "    </tr>\n",
       "    <tr>\n",
       "      <th>4</th>\n",
       "      <td>1</td>\n",
       "      <td>0</td>\n",
       "      <td>0</td>\n",
       "      <td>0</td>\n",
       "      <td>0</td>\n",
       "      <td>1</td>\n",
       "      <td>1</td>\n",
       "      <td>0</td>\n",
       "      <td>0</td>\n",
       "      <td>0</td>\n",
       "      <td>0</td>\n",
       "    </tr>\n",
       "    <tr>\n",
       "      <th>5</th>\n",
       "      <td>1</td>\n",
       "      <td>0</td>\n",
       "      <td>1</td>\n",
       "      <td>0</td>\n",
       "      <td>0</td>\n",
       "      <td>0</td>\n",
       "      <td>0</td>\n",
       "      <td>0</td>\n",
       "      <td>0</td>\n",
       "      <td>0</td>\n",
       "      <td>0</td>\n",
       "    </tr>\n",
       "    <tr>\n",
       "      <th>6</th>\n",
       "      <td>0</td>\n",
       "      <td>0</td>\n",
       "      <td>0</td>\n",
       "      <td>0</td>\n",
       "      <td>1</td>\n",
       "      <td>1</td>\n",
       "      <td>0</td>\n",
       "      <td>0</td>\n",
       "      <td>0</td>\n",
       "      <td>0</td>\n",
       "      <td>0</td>\n",
       "    </tr>\n",
       "    <tr>\n",
       "      <th>7</th>\n",
       "      <td>1</td>\n",
       "      <td>0</td>\n",
       "      <td>1</td>\n",
       "      <td>0</td>\n",
       "      <td>0</td>\n",
       "      <td>1</td>\n",
       "      <td>1</td>\n",
       "      <td>0</td>\n",
       "      <td>0</td>\n",
       "      <td>0</td>\n",
       "      <td>1</td>\n",
       "    </tr>\n",
       "  </tbody>\n",
       "</table>\n",
       "</div>"
      ],
      "text/plain": [
       "   on display  gift shop  rainy day  couple of hours  all ages  \\\n",
       "0           0          0          0                0         0   \n",
       "4           1          0          0                0         0   \n",
       "5           1          0          1                0         0   \n",
       "6           0          0          0                0         1   \n",
       "7           1          0          1                0         0   \n",
       "\n",
       "   special exhibits  few hours  two hours  exhibits  well worth a visit  \\\n",
       "0                 0          0          0         0                   0   \n",
       "4                 1          1          0         0                   0   \n",
       "5                 0          0          0         0                   0   \n",
       "6                 1          0          0         0                   0   \n",
       "7                 1          1          0         0                   0   \n",
       "\n",
       "   permanent collection  \n",
       "0                     0  \n",
       "4                     0  \n",
       "5                     0  \n",
       "6                     0  \n",
       "7                     1  "
      ]
     },
     "execution_count": 14,
     "metadata": {},
     "output_type": "execute_result"
    }
   ],
   "source": [
    "# Displays columns that were the result of feature engineering\n",
    "# (i.e. common phrases in the Description column).\n",
    "df.iloc[:5,99:110]"
   ]
  },
  {
   "cell_type": "markdown",
   "metadata": {},
   "source": [
    "<hr>\n",
    "**Analysis of text-mined columns:**\n",
    "\n",
    "Unfortunately, deep analysis of these text-mined columns is beyond this project's scope. The most that we will do is show the most frequently occuring phrases, shown below:"
   ]
  },
  {
   "cell_type": "code",
   "execution_count": 15,
   "metadata": {},
   "outputs": [
    {
     "data": {
      "text/html": [
       "<div>\n",
       "<style scoped>\n",
       "    .dataframe tbody tr th:only-of-type {\n",
       "        vertical-align: middle;\n",
       "    }\n",
       "\n",
       "    .dataframe tbody tr th {\n",
       "        vertical-align: top;\n",
       "    }\n",
       "\n",
       "    .dataframe thead th {\n",
       "        text-align: right;\n",
       "    }\n",
       "</style>\n",
       "<table border=\"1\" class=\"dataframe\">\n",
       "  <thead>\n",
       "    <tr style=\"text-align: right;\">\n",
       "      <th></th>\n",
       "      <th>cols</th>\n",
       "      <th>counts</th>\n",
       "    </tr>\n",
       "  </thead>\n",
       "  <tbody>\n",
       "    <tr>\n",
       "      <th>0</th>\n",
       "      <td>on display</td>\n",
       "      <td>792</td>\n",
       "    </tr>\n",
       "    <tr>\n",
       "      <th>1</th>\n",
       "      <td>gift shop</td>\n",
       "      <td>415</td>\n",
       "    </tr>\n",
       "  </tbody>\n",
       "</table>\n",
       "</div>"
      ],
      "text/plain": [
       "         cols  counts\n",
       "0  on display     792\n",
       "1   gift shop     415"
      ]
     },
     "execution_count": 15,
     "metadata": {},
     "output_type": "execute_result"
    }
   ],
   "source": [
    "# Initialize empty column name list\n",
    "col_list = []\n",
    "# Initialize empty count list\n",
    "count_list = []\n",
    "\n",
    "# For column in the text-mined columns:\n",
    "for col in df.columns[99:199]:\n",
    "    \n",
    "    # Count the number of rows that had a value of 1 or more\n",
    "    count = df[col].loc[df[col]>=1].count()\n",
    "    \n",
    "    # Append the count to the count list\n",
    "    count_list.append(count)\n",
    "    # Append the column name to the column name list\n",
    "    col_list.append(col)\n",
    "\n",
    "# Initialize an empty dictionary\n",
    "my_dict = {}\n",
    "# Create a key named \"cols\" with a value = the column name list\n",
    "my_dict['cols'] = col_list\n",
    "# Create a key named \"counts\" with a value = the count list\n",
    "my_dict['counts'] = count_list\n",
    "\n",
    "# Create new DataFrame based off dictionary\n",
    "new_df = pd.DataFrame(my_dict)\n",
    "# Display sample of new DataFrame\n",
    "new_df.head(2)"
   ]
  },
  {
   "cell_type": "code",
   "execution_count": 16,
   "metadata": {},
   "outputs": [
    {
     "name": "stdout",
     "output_type": "stream",
     "text": [
      "These are the top 10 most frequently used phrases in our museum descriptions: \u001b[35m['on display' 'gift shop' 'rainy day' 'couple of hours' 'all ages'\n",
      " 'special exhibits' 'few hours' 'two hours' 'exhibits' 'well worth a visit']\n"
     ]
    }
   ],
   "source": [
    "# Sort the new DataFrame and select the top 10 phrases (i.e. column names)\n",
    "top_ten_phrases = new_df.sort_values(by='counts', ascending=False)[:10]\n",
    "\n",
    "# Print the results:\n",
    "print(\"These are the top 10 most frequently used phrases in our \\\n",
    "museum descriptions: \" + Fore.MAGENTA + \\\n",
    "      str(top_ten_phrases['cols'].unique()))"
   ]
  },
  {
   "cell_type": "markdown",
   "metadata": {},
   "source": [
    "## 6. Wrangling and Cleansing Data\n",
    "---"
   ]
  },
  {
   "cell_type": "markdown",
   "metadata": {},
   "source": [
    "<hr>\n",
    "## DataFrame Cleaning Opportunities\n",
    "\n",
    "> 1) Standardizing the PhoneNum column. <br>\n",
    "> 2) Removing rows with above-average missing value counts.<br>\n",
    "> 3) Renaming the column \"Langtitude\" to \"Longitude\"."
   ]
  },
  {
   "cell_type": "markdown",
   "metadata": {},
   "source": [
    "### 1) Standardizing Phone Numbers:"
   ]
  },
  {
   "cell_type": "markdown",
   "metadata": {},
   "source": [
    "Demonstrate the need for phone number standardization by printing out a few current phone number layouts:"
   ]
  },
  {
   "cell_type": "code",
   "execution_count": 17,
   "metadata": {},
   "outputs": [
    {
     "data": {
      "text/plain": [
       "0     +1 888-639-7386\n",
       "4      1 212-535-7710\n",
       "5     +1 504-528-1944\n",
       "6        303-370-6000\n",
       "7        312 443 3600\n",
       "8     +1 212-312-8800\n",
       "9        617-267-9300\n",
       "14       312 922 9410\n",
       "19       202 633-1000\n",
       "24         2026331000\n",
       "Name: PhoneNum, dtype: object"
      ]
     },
     "execution_count": 17,
     "metadata": {},
     "output_type": "execute_result"
    }
   ],
   "source": [
    "# Shows that the phone number column isn't standardized.\n",
    "df['PhoneNum'][:10]"
   ]
  },
  {
   "cell_type": "markdown",
   "metadata": {},
   "source": [
    "Cast PhoneNum column as type string, so that indexing and cleaning can be conducted."
   ]
  },
  {
   "cell_type": "code",
   "execution_count": 18,
   "metadata": {},
   "outputs": [],
   "source": [
    "# Cast \"PhoneNum\" column as type string.\n",
    "df['PhoneNum'] = df['PhoneNum'].astype(str)"
   ]
  },
  {
   "cell_type": "markdown",
   "metadata": {},
   "source": [
    "Print out how many rows have certain characters appearing once, more than once, or never."
   ]
  },
  {
   "cell_type": "code",
   "execution_count": 19,
   "metadata": {},
   "outputs": [
    {
     "name": "stdout",
     "output_type": "stream",
     "text": [
      "+ count0:1010 count1:591 count2:591\n",
      "- count0:730 count1:138 count2:138\n",
      "( count0:1489 count1:112 count2:112\n",
      ") count0:1489 count1:112 count2:112\n",
      ". count0:1576 count1:0 count2:0\n",
      "  count0:663 count1:458 count2:458\n"
     ]
    }
   ],
   "source": [
    "# For each of these characters:\n",
    "for i in ('+', '-', '(', ')', '.', ' '):\n",
    "   \n",
    "    # Create a mask to show where the character appears 0 times\n",
    "    mask0 = df['PhoneNum'].apply(lambda x: x.count(i) == 0)\n",
    "    # Create a mask to show where the character appears 1 time\n",
    "    mask1 = df['PhoneNum'].apply(lambda x: x.count(i) == 1)\n",
    "    # Create a mask to show where the character appears more than 1 time\n",
    "    maskmulti = df['PhoneNum'].apply(lambda x: x.count(i) > 1)\n",
    "\n",
    "    # Capture the number of rows that the character appears 0 times\n",
    "    count0 = df['PhoneNum'].loc[mask0].count()\n",
    "    # Capture the number of rows that the character appears 1 time\n",
    "    count1 = df['PhoneNum'].loc[mask1].count()\n",
    "    # Capture the number of rows that the character appears more than 1 time\n",
    "    countmulti = df['PhoneNum'].loc[mask1].count()\n",
    "    \n",
    "    # Print the character and its counts\n",
    "    print(i, \"count0:\" + str(count0), \\\n",
    "          \"count1:\" + str(count1), \"count2:\" + str(countmulti))\n"
   ]
  },
  {
   "cell_type": "markdown",
   "metadata": {},
   "source": [
    "Create empty column named \"Clean Phone Number\", that will be sequentially filled with standardized values from the \"PhoneNum\" column."
   ]
  },
  {
   "cell_type": "code",
   "execution_count": 20,
   "metadata": {},
   "outputs": [],
   "source": [
    "# Create empty column for \"Clean Phone Number\"\n",
    "df['Clean Phone Number'] = np.nan"
   ]
  },
  {
   "cell_type": "markdown",
   "metadata": {},
   "source": [
    "Where the \"PhoneNum\" column was null to begin with, fill with the value \"None\"."
   ]
  },
  {
   "cell_type": "code",
   "execution_count": 21,
   "metadata": {},
   "outputs": [
    {
     "name": "stderr",
     "output_type": "stream",
     "text": [
      "/Users/jessicahoban/anaconda/lib/python3.6/site-packages/pandas/core/indexing.py:194: SettingWithCopyWarning: \n",
      "A value is trying to be set on a copy of a slice from a DataFrame\n",
      "\n",
      "See the caveats in the documentation: http://pandas.pydata.org/pandas-docs/stable/indexing.html#indexing-view-versus-copy\n",
      "  self._setitem_with_indexer(indexer, value)\n"
     ]
    }
   ],
   "source": [
    "# Find where the value in \"PhoneNum\" is a variation of Null\n",
    "masknull = df['PhoneNum'].apply(lambda x: (x == 'nan') | (x == \"\"))\n",
    "# Set the \"Clean Phone Number\" value to \"None\"\n",
    "df['Clean Phone Number'].loc[masknull] = \"None\""
   ]
  },
  {
   "cell_type": "markdown",
   "metadata": {},
   "source": [
    "**NOTE:** See that warning above? It's going to show every time I modify a phone number. So that it doesn't distract from the code, I'm setting my Jupyter notebook to ignore warnings like that."
   ]
  },
  {
   "cell_type": "code",
   "execution_count": 22,
   "metadata": {},
   "outputs": [],
   "source": [
    "# Import warnings library\n",
    "import warnings\n",
    "# Set this jupyter notebook to ignore warnings\n",
    "warnings.filterwarnings('ignore')"
   ]
  },
  {
   "cell_type": "markdown",
   "metadata": {},
   "source": [
    "### Phone Number Scenario 1: \n",
    " \"##########\" -> \"(###)-###-####\"\n",
    " \n",
    "Where the original phone number is an unformatted list of 10 numbers, conduct the following standardization process to populate the \"Clean Phone Number\" column:"
   ]
  },
  {
   "cell_type": "code",
   "execution_count": 23,
   "metadata": {},
   "outputs": [
    {
     "name": "stdout",
     "output_type": "stream",
     "text": [
      "Count: 33\n",
      "['2026331000' '8006446862' '2077756148' '3194623925' '6082566445'\n",
      " '3017395727' '9785985000' '2547101110' '2143684622' '8437222706']\n"
     ]
    }
   ],
   "source": [
    "# Create mask to show only rows where no characters appear.\n",
    "mask1 = df['PhoneNum'].apply((lambda x: (x.count('+') == 0) & \\\n",
    "                                (x.count('-') == 0) & \\\n",
    "                                (x.count('(') == 0) & \\\n",
    "                                (x.count(')') == 0) & \\\n",
    "                                (x.count('.') == 0) & \\\n",
    "                                (x.count(' ') == 0) & \\\n",
    "                                (x != 'nan') & \\\n",
    "                                (len(x)==10)\n",
    "                                ))\n",
    " \n",
    "# Display the count of rows affected:\n",
    "print(\"Count: \" + str(df['PhoneNum'].loc[mask1].count()))\n",
    "# Displays what the phone numbers look like in these rows:\n",
    "print(df['PhoneNum'].loc[mask1].unique()[:10])"
   ]
  },
  {
   "cell_type": "code",
   "execution_count": 24,
   "metadata": {},
   "outputs": [
    {
     "name": "stdout",
     "output_type": "stream",
     "text": [
      "['(202)-633-100' '(800)-644-686' '(207)-775-614' '(319)-462-392'\n",
      " '(608)-256-644' '(301)-739-572' '(978)-598-500' '(254)-710-111'\n",
      " '(214)-368-462' '(843)-722-270']\n"
     ]
    }
   ],
   "source": [
    "# Fill the selected rows of the new column based on slices of the \n",
    "# old column.\n",
    "df['Clean Phone Number'].loc[mask1] = \\\n",
    "df['PhoneNum'].apply(lambda x: \"(\" + x[0:3] + \")-\" + x[3:6] + \"-\" + x[6:9])\n",
    "\n",
    "# Print the results.\n",
    "print(df['Clean Phone Number'].loc[mask1].unique()[:10])"
   ]
  },
  {
   "cell_type": "markdown",
   "metadata": {},
   "source": [
    "### Phone Number Scenario 2\n",
    "\"###~###~####\" -> \"(###)-###-####\"\n",
    "\n",
    "Where the original phone number is an list of 10 numbers separated twice by any non-digit character (symbolized by ~), conduct the following standardization process to populate the \"Clean Phone Number\" column:"
   ]
  },
  {
   "cell_type": "code",
   "execution_count": 25,
   "metadata": {},
   "outputs": [
    {
     "name": "stdout",
     "output_type": "stream",
     "text": [
      "Count: 478\n",
      "['303-370-6000' '312 443 3600' '617-267-9300' '312 922 9410' '202 633-1000'\n",
      " '212-769-5100' '773-684-1414' '212-288-0700' '619-239-0512' '202-488-0400']\n"
     ]
    }
   ],
   "source": [
    "# Create mask to find anything that has 10 numbers in this format \n",
    "# (###~###~####), separated by anything (~)\n",
    "mask2 = df['PhoneNum'].apply((lambda x: (x[0:3].isdigit()==True) & \\\n",
    "                                 (x[3:4].isdigit()==False) & \\\n",
    "                                 (x[4:7].isdigit()==True) & \\\n",
    "                                 (x[7:8].isdigit()==False) & \\\n",
    "                                 (x[8:12].isdigit()==True) & \\\n",
    "                                 (len(x)==12)))\n",
    "\n",
    "# Display the count of rows affected:\n",
    "print(\"Count: \" + str(df['PhoneNum'].loc[mask2].count()))\n",
    "# Displays what the phone numbers look like in these rows:\n",
    "print(df['PhoneNum'].loc[mask2].unique()[:10])"
   ]
  },
  {
   "cell_type": "code",
   "execution_count": 26,
   "metadata": {},
   "outputs": [
    {
     "name": "stdout",
     "output_type": "stream",
     "text": [
      "['(303)-370-6000' '(312)-443-3600' '(617)-267-9300' '(312)-922-9410'\n",
      " '(202)-633-1000' '(212)-769-5100' '(773)-684-1414' '(212)-288-0700'\n",
      " '(619)-239-0512' '(202)-488-0400']\n"
     ]
    }
   ],
   "source": [
    "# Fill the selected rows of the new column based on slices of the \n",
    "# old column.\n",
    "df['Clean Phone Number'].loc[mask2] = \\\n",
    "df['PhoneNum'].apply(lambda x: \"(\" + x[0:3] + \")-\" + x[4:7] \\\n",
    "                     + \"-\" + x[8:12])\n",
    "\n",
    "# Print the results.\n",
    "print(df['Clean Phone Number'].loc[mask2].unique()[:10])"
   ]
  },
  {
   "cell_type": "markdown",
   "metadata": {},
   "source": [
    "### Phone Number Scenario 3: \n",
    "\n",
    "\"+#~ ###~###~###\" -> \"+#~ (###)-###-###\"\n",
    " \n",
    "Where the original phone number is an list of 10 numbers separated twice by any non-digit character (symbolized by ~), AND where there is something leading before the phone number (e.g. \"+1\", \"+81\", \"1\", etc.), conduct the following standardization process to populate the \"Clean Phone Number\" column:\n",
    "<br><br>\n",
    "\n",
    "**NOTE:** The most efficient way to accomplish this is to index in reverse, so that we know that each of the phone numbers ***end*** in the format \"###~###~###\". \n",
    "\n",
    "We will break this scenario down into 3 parts, where:\n",
    "> 1) Length of string == 13 (e.g. \"+372 602 6000\")\n",
    "2) Length of string == 14 (e.g. \"1 212-535-7710\")\n",
    "3) Length of string == 15 (e.g. \"+1 888-639-7386\")\n",
    "\n",
    "We ***will not*** go through every possible scenario in these steps. There could potentially be another 10 scenarios besides these main 3, so it would not be in the scope of this project to standardize every possible scenario."
   ]
  },
  {
   "cell_type": "markdown",
   "metadata": {},
   "source": [
    "**Length 13:**"
   ]
  },
  {
   "cell_type": "code",
   "execution_count": 27,
   "metadata": {},
   "outputs": [
    {
     "name": "stdout",
     "output_type": "stream",
     "text": [
      "Count: 8\n",
      "['+372 602 6000' '+372 620 0545' '+662 224 1333' '+606-283 1273'\n",
      " '+562 928 1500' '+354 511 1517' '+507 830-6700' '+354 411 6370']\n"
     ]
    }
   ],
   "source": [
    "# Create mask to find anything ENDS in 10 numbers in this format \n",
    "# (###*###*####), separated by anything (*), but that also \n",
    "# has 1 leading value.\n",
    "\n",
    "# The only valid phone numbers of length 13 have a leading non-digit\n",
    "# (e.g. \"+\", not an extra \"0\")\n",
    "mask_len13 = df['PhoneNum'].apply((lambda x: (x[-4:].isdigit()==True) & \\\n",
    "                                 (x[-5:-4].isdigit()==False) & \\\n",
    "                                 (x[-8:-5].isdigit()==True) & \\\n",
    "                                 (x[-9:-8].isdigit()==False) & \\\n",
    "                                 (x[-12:-9].isdigit()==True) & \\\n",
    "                                 # Checks that the leading character is a non-digit\n",
    "                                 (x[-13:-12].isdigit()==False) & \\\n",
    "                                 (len(x)==13)))\n",
    "\n",
    "# Display the count of rows affected:\n",
    "print(\"Count: \" + str(df['PhoneNum'].loc[mask_len13].count()))\n",
    "# Displays what the phone numbers look like in these rows:\n",
    "print(df['PhoneNum'].loc[mask_len13].unique()[:10])"
   ]
  },
  {
   "cell_type": "code",
   "execution_count": 28,
   "metadata": {},
   "outputs": [
    {
     "name": "stdout",
     "output_type": "stream",
     "text": [
      "['(372)-602-6000' '(372)-620-0545' '(662)-224-1333' '(606)-283-1273'\n",
      " '(562)-928-1500' '(354)-511-1517' '(507)-830-6700' '(354)-411-6370']\n"
     ]
    }
   ],
   "source": [
    "# Fill the selected rows of the new column based on slices of the \n",
    "# old column.\n",
    "df['Clean Phone Number'].loc[mask_len13] = \\\n",
    "df['PhoneNum'].apply(lambda x: \"(\" + x[-12:-9] + \")-\" + x[-8:-5] \\\n",
    "                     + \"-\" + x[-4:])\n",
    "\n",
    "# Prints the results.\n",
    "print(df['Clean Phone Number'].loc[mask_len13].unique()[:10])"
   ]
  },
  {
   "cell_type": "markdown",
   "metadata": {},
   "source": [
    "**Length 14:**"
   ]
  },
  {
   "cell_type": "code",
   "execution_count": 29,
   "metadata": {},
   "outputs": [
    {
     "name": "stdout",
     "output_type": "stream",
     "text": [
      "Count: 4\n",
      "['1 212-535-7710' '1-727-823-3767' '1-919-934-5830' '1-866-729-2469']\n"
     ]
    }
   ],
   "source": [
    "# Create mask to find anything ENDS in 10 numbers in this format \n",
    "# (###*###*####), separated by anything (*), but that also \n",
    "# has 2 leading values.\n",
    "\n",
    "# The only valid phone numbers of length 14 have a leading  digit\n",
    "# followed by a non-digit (e.g. \"+\", not an extra \"0\")\n",
    "mask_len14 = df['PhoneNum'].apply((lambda x: (x[-4:].isdigit()==True) & \\\n",
    "                                 (x[-5:-4].isdigit()==False) & \\\n",
    "                                 (x[-8:-5].isdigit()==True) & \\\n",
    "                                 (x[-9:-8].isdigit()==False) & \\\n",
    "                                 (x[-12:-9].isdigit()==True) & \\\n",
    "                                 # Checks that the 2nd character is a non-digit\n",
    "                                 (x[-13:-12].isdigit()==False) & \\\n",
    "                                 # Checks that the 1st character is a digit\n",
    "                                 (x[-14:-13].isdigit()==True) & \\\n",
    "                                 (len(x)==14)))\n",
    "\n",
    "# Display the count of rows affected:\n",
    "print(\"Count: \" + str(df['PhoneNum'].loc[mask_len14].count()))\n",
    "# Displays what the phone numbers look like in these rows:\n",
    "print(df['PhoneNum'].loc[mask_len14].unique()[:10])"
   ]
  },
  {
   "cell_type": "markdown",
   "metadata": {},
   "source": [
    "Since we can negate the leading \"1\" but not necessarily another number (e.g. \"2\" or \"3\"), let's check that there are no rows with any number besides 1 in that position."
   ]
  },
  {
   "cell_type": "code",
   "execution_count": 30,
   "metadata": {},
   "outputs": [
    {
     "name": "stdout",
     "output_type": "stream",
     "text": [
      "\u001b[32mThere are no other rows! We are good to go.\n"
     ]
    }
   ],
   "source": [
    "# Create a mask to check for any phone numbers that end with \"###*###*####\", \n",
    "# with length 14, that have anything other than \"1\" as its 1st digit.\n",
    "mask_len14_check = df['PhoneNum'].apply((lambda x: (x[-4:].isdigit()==True) & \\\n",
    "                                 (x[-5:-4].isdigit()==False) & \\\n",
    "                                 (x[-8:-5].isdigit()==True) & \\\n",
    "                                 (x[-9:-8].isdigit()==False) & \\\n",
    "                                 (x[-12:-9].isdigit()==True) & \\\n",
    "                                 (x[-13:-12].isdigit()==False) & \\\n",
    "                                 # Checks that the 1st character isn't 1\n",
    "                                 (x[-14:-13] !=\"1\") & \\\n",
    "                                 (len(x)==14)))\n",
    "\n",
    "# If filtering with the mask returns no rows, then we don't\n",
    "# need to make additional code to account for other numbers.\n",
    "if (df['PhoneNum'].loc[mask_len14_check].count() == 0):\n",
    "    print(Fore.GREEN + \"There are no other rows! We are good to go.\")\n",
    "# If filtering with the mask does return any rows,\n",
    "# we'll need to add additional steps to this scenario to\n",
    "# account for other numbers.\n",
    "else:\n",
    "    print(Fore.RED + \"There are rows with numbers besides 1. \\\n",
    "    We'll need to take another look\")"
   ]
  },
  {
   "cell_type": "code",
   "execution_count": 31,
   "metadata": {},
   "outputs": [
    {
     "name": "stdout",
     "output_type": "stream",
     "text": [
      "['(212)-535-7710' '(727)-823-3767' '(919)-934-5830' '(866)-729-2469']\n"
     ]
    }
   ],
   "source": [
    "# Fill the selected rows of the new column based on slices of the \n",
    "# old column.\n",
    "df['Clean Phone Number'].loc[mask_len14] = \\\n",
    "df['PhoneNum'].apply(lambda x: \"(\" + x[-12:-9] + \")-\" + x[-8:-5] \\\n",
    "                     + \"-\" + x[-4:])\n",
    "\n",
    "# Print the results.\n",
    "print(df['Clean Phone Number'].loc[mask_len14].unique()[:10])"
   ]
  },
  {
   "cell_type": "markdown",
   "metadata": {},
   "source": [
    "**Length 15:**"
   ]
  },
  {
   "cell_type": "code",
   "execution_count": 32,
   "metadata": {},
   "outputs": [
    {
     "name": "stdout",
     "output_type": "stream",
     "text": [
      "Count: 308\n",
      "['+1 888-639-7386' '+1 504-528-1944' '+1 212-312-8800' '+1 800-226-3369'\n",
      " '+1 717-534-8939' '+1 941-359-5700' '+1 323-857-6000' '+1 615-256-1777'\n",
      " '+1 214-428-5555' '+1 212-708-9400']\n"
     ]
    }
   ],
   "source": [
    "# Create mask to find anything ENDS in 10 numbers in this format \n",
    "# (###*###*####), separated by anything (*), but that also \n",
    "# has 3 leading values.\n",
    "\n",
    "# There can be two valid phone numbers of length 15, \n",
    "# 1) that begins with a \"+1 \" \n",
    "# OR \n",
    "# 2) that begins with a \"## \". \n",
    "\n",
    "# Find the numbers that begin with \"+# \"\n",
    "mask_len15_1 = df['PhoneNum'].apply((lambda x: (x[-4:].isdigit()==True) & \\\n",
    "                                 (x[-5:-4].isdigit()==False) & \\\n",
    "                                 (x[-8:-5].isdigit()==True) & \\\n",
    "                                 (x[-9:-8].isdigit()==False) & \\\n",
    "                                 (x[-12:-9].isdigit()==True) & \\\n",
    "                                 (x[-13:-12].isdigit()==False) & \\\n",
    "                                 # Checks that the 2nd character is a digit\n",
    "                                 (x[-14:-13].isdigit()==True) & \\\n",
    "                                 # Checks that the 1st character is a non-digit\n",
    "                                 (x[-15:-14].isdigit()==False) & \\\n",
    "                                 (len(x)==15)))\n",
    "\n",
    "# Display the count of rows affected:\n",
    "print(\"Count: \" + str(df['PhoneNum'].loc[mask_len15_1].count()))\n",
    "# Displays what the phone numbers look like in these rows:\n",
    "print(df['PhoneNum'].loc[mask_len15_1].unique()[:10])\n"
   ]
  },
  {
   "cell_type": "markdown",
   "metadata": {},
   "source": [
    "Just like we did before, since we can negate the +1 but not necessarily another number (e.g. +2 or +3), let's check that there are no rows with any number besides 1 in that position."
   ]
  },
  {
   "cell_type": "code",
   "execution_count": 33,
   "metadata": {},
   "outputs": [
    {
     "name": "stdout",
     "output_type": "stream",
     "text": [
      "\u001b[32mThere are no other rows! We are good to go.\n"
     ]
    }
   ],
   "source": [
    "# Create a mask to check for any phone numbers that end with \"###*###*####\", \n",
    "# with length 15, that have anything other than \"1\" as its 2nd digit.\n",
    "mask_len15_1_check = df['PhoneNum'].apply((lambda x: (x[-4:].isdigit()==True) & \\\n",
    "                                 (x[-5:-4].isdigit()==False) & \\\n",
    "                                 (x[-8:-5].isdigit()==True) & \\\n",
    "                                 (x[-9:-8].isdigit()==False) & \\\n",
    "                                 (x[-12:-9].isdigit()==True) & \\\n",
    "                                 (x[-13:-12].isdigit()==False) & \\\n",
    "                                 # Checks that 2nd character isn't 1\n",
    "                                 (x[-14:-13] != '1') & \\\n",
    "                                 (x[-15:-14].isdigit()==False) & \\\n",
    "                                 (len(x)==15)))\n",
    "\n",
    "# If filtering with the mask returns no rows, then we don't\n",
    "# need to make additional code to account for other numbers.\n",
    "if (df['PhoneNum'].loc[mask_len15_1_check].count() == 0):\n",
    "    print(Fore.GREEN + \"There are no other rows! We are good to go.\")\n",
    "# If filtering with the mask does return any rows,\n",
    "# we'll need to add additional steps to this scenario to\n",
    "# account for other numbers.\n",
    "else:\n",
    "    print(Fore.RED + \"There are rows with numbers besides 1. \\\n",
    "    We'll need to take another look\")"
   ]
  },
  {
   "cell_type": "code",
   "execution_count": 34,
   "metadata": {},
   "outputs": [
    {
     "name": "stdout",
     "output_type": "stream",
     "text": [
      "['(888)-639-7386' '(504)-528-1944' '(212)-312-8800' '(800)-226-3369'\n",
      " '(717)-534-8939' '(941)-359-5700' '(323)-857-6000' '(615)-256-1777'\n",
      " '(214)-428-5555' '(212)-708-9400']\n"
     ]
    }
   ],
   "source": [
    "# Fill the selected rows of the new column based on slices of the \n",
    "# old column.\n",
    "df['Clean Phone Number'].loc[mask_len15_1] = \\\n",
    "df['PhoneNum'].apply(lambda x: \"(\" + x[-12:-9] + \")-\" + x[-8:-5] \\\n",
    "                     + \"-\" + x[-4:])\n",
    "\n",
    "# Print the results.\n",
    "print(df['Clean Phone Number'].loc[mask_len15_1].unique()[:10])"
   ]
  },
  {
   "cell_type": "code",
   "execution_count": 35,
   "metadata": {},
   "outputs": [
    {
     "name": "stdout",
     "output_type": "stream",
     "text": [
      "Count: 8\n",
      "['44 151 708 8854' '91-020-448-2101' '44-113-244-4343' '30 210 367 1000'\n",
      " '44-114-272-2106' '44 151 709 1963' '44 161 839 6061' '44-191-232-6789']\n"
     ]
    }
   ],
   "source": [
    "# Find the numbers that begin with \"## \"\n",
    "mask_len15_2 = df['PhoneNum'].apply((lambda x: (x[-4:].isdigit()==True) & \\\n",
    "                                 (x[-5:-4].isdigit()==False) & \\\n",
    "                                 (x[-8:-5].isdigit()==True) & \\\n",
    "                                 (x[-9:-8].isdigit()==False) & \\\n",
    "                                 (x[-12:-9].isdigit()==True) & \\\n",
    "                                 (x[-13:-12].isdigit()==False) & \\\n",
    "                                 # Checks that the first two characters are digits\n",
    "                                 (x[-15:-13].isdigit()==True) & \\\n",
    "                                 (len(x)==15)))\n",
    "\n",
    "# Display the count of rows affected:\n",
    "print(\"Count: \" + str(df['PhoneNum'].loc[mask_len15_2].count()))\n",
    "# Displays what the phone numbers look like in these rows:\n",
    "print(df['PhoneNum'].loc[mask_len15_2].unique()[:10])"
   ]
  },
  {
   "cell_type": "markdown",
   "metadata": {},
   "source": [
    "Since these rows have two numbers in the beginning, we can't just get rid of them. Therefore, we'll standardize them into this form \"+## (###)-###-####\"."
   ]
  },
  {
   "cell_type": "code",
   "execution_count": 36,
   "metadata": {},
   "outputs": [
    {
     "name": "stdout",
     "output_type": "stream",
     "text": [
      "['+44 (151)-708-8854' '+91 (020)-448-2101' '+44 (113)-244-4343'\n",
      " '+30 (210)-367-1000' '+44 (114)-272-2106' '+44 (151)-709-1963'\n",
      " '+44 (161)-839-6061' '+44 (191)-232-6789']\n"
     ]
    }
   ],
   "source": [
    "# Fill the selected rows of the new column based on slices of the \n",
    "# old column.\n",
    "df['Clean Phone Number'].loc[mask_len15_2] = \\\n",
    "df['PhoneNum'].apply(lambda x: \"+\" + x[-15:-13] + \" (\" + x[-12:-9] + \\\n",
    "                     \")-\" + x[-8:-5] + \"-\" + x[-4:])\n",
    "\n",
    "# Print the results.\n",
    "print(df['Clean Phone Number'].loc[mask_len15_2].unique()[:10])"
   ]
  },
  {
   "cell_type": "markdown",
   "metadata": {},
   "source": [
    "### Let's evaluate what we have left to standardize:\n",
    "\n",
    "Since we initialized the \"Clean Phone Number\" column with Numpy NaN's, we can count how many rows are left with that initial value, to see what we have left."
   ]
  },
  {
   "cell_type": "code",
   "execution_count": 37,
   "metadata": {},
   "outputs": [
    {
     "name": "stdout",
     "output_type": "stream",
     "text": [
      "Total rows in DataFrame: 1603\n",
      "Rows left to clean: 758\n"
     ]
    }
   ],
   "source": [
    "mask_left = df['Clean Phone Number'].isnull()==True\n",
    "num_left = df['Clean Phone Number'].loc[mask_left].shape[0]\n",
    "\n",
    "print(\"Total rows in DataFrame: \" + str(df.shape[0]))\n",
    "print(\"Rows left to clean: \" + str(num_left))"
   ]
  },
  {
   "cell_type": "markdown",
   "metadata": {},
   "source": [
    "<br>\n",
    "What do the remaining rows look like?"
   ]
  },
  {
   "cell_type": "code",
   "execution_count": 38,
   "metadata": {},
   "outputs": [
    {
     "data": {
      "text/plain": [
       "array(['18003275002', '12157638100', '13104407300', '17136394629',\n",
       "       '17022292734', '1 2067645700', '15208832702', '12067702700',\n",
       "       '17023876366', '12023937798', '12129241040', '18088473511',\n",
       "       '16154162001', '(202) 737-4215', '(202) 633-1000', '15026371111',\n",
       "       '19287745213', '17136397771', '18043401400', '12066543100'], dtype=object)"
      ]
     },
     "execution_count": 38,
     "metadata": {},
     "output_type": "execute_result"
    }
   ],
   "source": [
    "df['PhoneNum'].loc[mask_left].unique()[:20]"
   ]
  },
  {
   "cell_type": "markdown",
   "metadata": {},
   "source": [
    "Since there are still probably 10 or so scenarios left to do, this is as far as we'll go in standardizing the PhoneNum column. We have established the necessary procedures and given plenty examples to clean the remainder of the phone numbers.\n",
    "\n",
    "It could even be necessary to delete certain phone numbers entirely, if they are invalid."
   ]
  },
  {
   "cell_type": "markdown",
   "metadata": {},
   "source": [
    "### 2)  Null Values"
   ]
  },
  {
   "cell_type": "code",
   "execution_count": 39,
   "metadata": {},
   "outputs": [
    {
     "name": "stdout",
     "output_type": "stream",
     "text": [
      "Distribution of Missing Values column:  \n",
      "\n",
      "count    1603.000000\n",
      "mean        2.857767\n",
      "std         1.803653\n",
      "min         0.000000\n",
      "25%         2.000000\n",
      "50%         2.000000\n",
      "75%         5.000000\n",
      "max         8.000000\n",
      "Name: Missing Values, dtype: float64\n"
     ]
    }
   ],
   "source": [
    "# Creates new column with the number of null values per row.\n",
    "df['Missing Values'] = df.isna().sum(axis=1)\n",
    "\n",
    "# Finds max number of missing values per row.\n",
    "print(\"Distribution of Missing Values column:  \")\n",
    "print(\"\")\n",
    "print(str(df['Missing Values'].describe()))"
   ]
  },
  {
   "cell_type": "markdown",
   "metadata": {},
   "source": [
    "Since the 75th percentile of Missing Values is 5 nulls/row, let's arbitrarily decide that any row with over 5 null values should be discarded.<br><br>\n",
    "Before going ahead with this, let's make sure that won't remove too much of our data:"
   ]
  },
  {
   "cell_type": "code",
   "execution_count": 40,
   "metadata": {},
   "outputs": [
    {
     "name": "stdout",
     "output_type": "stream",
     "text": [
      "We will be removing \u001b[31m201\u001b[30m rows that have over 5 missing values.\n",
      "This will remove \u001b[31m12.54\u001b[30m% of our DataFrame.\n"
     ]
    }
   ],
   "source": [
    "over5 = df['Missing Values'] > 5\n",
    "over5_count = df.loc[over5].shape[0]\n",
    "percent_removed = 100*over5_count/df.shape[0]\n",
    "clean_percent = \"%.2f\" % percent_removed\n",
    "\n",
    "print(\"We will be removing \" + Fore.RED + str(over5_count) \\\n",
    "      + Fore.BLACK + \" rows that have over 5 missing values.\")\n",
    "print(\"This will remove \" + Fore.RED + str(clean_percent) \\\n",
    "      + Fore.BLACK + \"% of our DataFrame.\")"
   ]
  },
  {
   "cell_type": "markdown",
   "metadata": {},
   "source": [
    "Now that we've checked and are okay with removing that much data, let's go ahead and filter out the top 25% of rows with the highest missing value counts."
   ]
  },
  {
   "cell_type": "code",
   "execution_count": 41,
   "metadata": {},
   "outputs": [
    {
     "name": "stdout",
     "output_type": "stream",
     "text": [
      "We have \u001b[32m1402\u001b[30m rows remaining.\n"
     ]
    }
   ],
   "source": [
    "under5 = df['Missing Values'] <= 5\n",
    "df = df.loc[under5]\n",
    "\n",
    "print(\"We have \" + Fore.GREEN + str(df.shape[0]) \\\n",
    "      + Fore.BLACK + \" rows remaining.\")"
   ]
  },
  {
   "cell_type": "markdown",
   "metadata": {},
   "source": [
    "### 3) Renaming \"Langtitude\""
   ]
  },
  {
   "cell_type": "code",
   "execution_count": 42,
   "metadata": {},
   "outputs": [],
   "source": [
    "# Rename column\n",
    "df = df.rename(index=str, columns = {'Langtitude':'Longitude'})"
   ]
  },
  {
   "cell_type": "markdown",
   "metadata": {},
   "source": [
    "## 7. Analyzing Data\n",
    "---"
   ]
  },
  {
   "cell_type": "markdown",
   "metadata": {},
   "source": [
    " **Potential relationships to explore:**\n",
    "\n",
    "Because museum ratings are the most important qualifier of museum success, we are going to analyse potential relationships between the \"Rating\" column and other columns.\n",
    "\n",
    ">**Columns to compare to \"Rating\":**\n",
    "- Review Count\n",
    "- Patron type (Couples, Solo, Business, Friends) percentages\n",
    "- Features or Feature Count\n",
    "\n"
   ]
  },
  {
   "cell_type": "markdown",
   "metadata": {},
   "source": [
    "### Rating vs. ReviewCount"
   ]
  },
  {
   "cell_type": "code",
   "execution_count": 43,
   "metadata": {},
   "outputs": [
    {
     "data": {
      "text/html": [
       "<div>\n",
       "<style scoped>\n",
       "    .dataframe tbody tr th:only-of-type {\n",
       "        vertical-align: middle;\n",
       "    }\n",
       "\n",
       "    .dataframe tbody tr th {\n",
       "        vertical-align: top;\n",
       "    }\n",
       "\n",
       "    .dataframe thead th {\n",
       "        text-align: right;\n",
       "    }\n",
       "</style>\n",
       "<table border=\"1\" class=\"dataframe\">\n",
       "  <thead>\n",
       "    <tr style=\"text-align: right;\">\n",
       "      <th></th>\n",
       "      <th>Rating</th>\n",
       "      <th>ReviewCount</th>\n",
       "    </tr>\n",
       "  </thead>\n",
       "  <tbody>\n",
       "    <tr>\n",
       "      <th>0</th>\n",
       "      <td>4.5</td>\n",
       "      <td>6309.0</td>\n",
       "    </tr>\n",
       "    <tr>\n",
       "      <th>4</th>\n",
       "      <td>5.0</td>\n",
       "      <td>36627.0</td>\n",
       "    </tr>\n",
       "    <tr>\n",
       "      <th>5</th>\n",
       "      <td>5.0</td>\n",
       "      <td>15611.0</td>\n",
       "    </tr>\n",
       "    <tr>\n",
       "      <th>6</th>\n",
       "      <td>4.5</td>\n",
       "      <td>2564.0</td>\n",
       "    </tr>\n",
       "    <tr>\n",
       "      <th>7</th>\n",
       "      <td>5.0</td>\n",
       "      <td>15532.0</td>\n",
       "    </tr>\n",
       "  </tbody>\n",
       "</table>\n",
       "</div>"
      ],
      "text/plain": [
       "   Rating  ReviewCount\n",
       "0     4.5       6309.0\n",
       "4     5.0      36627.0\n",
       "5     5.0      15611.0\n",
       "6     4.5       2564.0\n",
       "7     5.0      15532.0"
      ]
     },
     "execution_count": 43,
     "metadata": {},
     "output_type": "execute_result"
    }
   ],
   "source": [
    "# Displays subset of DataFrame with the pertinent columns.\n",
    "df[['Rating', 'ReviewCount']].head()"
   ]
  },
  {
   "cell_type": "markdown",
   "metadata": {},
   "source": [
    "<br>\n",
    "**NOTE:** Because we have discretized data for the \"Rating\" column, any scatter plot that we attempt to make (without jittering) will look like the example below. The rating values will appear as lines, which makes a scatterplot a sub-optimal option for us.\n",
    "\n",
    "Therefore, when we want to see variability among variables, we will use mutliple histograms and boxplots side-by-side. This way, we can show how the distribution of \"Rating\" changes for various values in other columns."
   ]
  },
  {
   "cell_type": "code",
   "execution_count": 44,
   "metadata": {},
   "outputs": [
    {
     "data": {
      "image/png": "[encoded data removed]",
      "text/plain": [
       "<Figure size 432x288 with 1 Axes>"
      ]
     },
     "metadata": {},
     "output_type": "display_data"
    }
   ],
   "source": [
    "# Creates axes variable, so that we can modify after the intialization of the plot\n",
    "axes1 = df.plot.scatter(x = 'ReviewCount', y = 'Rating')\n",
    "# Sets plot title\n",
    "axes1.set_title(\"Why Scatterplots Won't Work for this Data\")\n",
    "# Displays only the plot\n",
    "plt.show()"
   ]
  },
  {
   "cell_type": "markdown",
   "metadata": {},
   "source": [
    "**Comparison of boxplots:**"
   ]
  },
  {
   "cell_type": "code",
   "execution_count": 45,
   "metadata": {},
   "outputs": [
    {
     "data": {
      "image/png": "[encoded data removed]",
      "text/plain": [
       "<Figure size 720x360 with 1 Axes>"
      ]
     },
     "metadata": {},
     "output_type": "display_data"
    }
   ],
   "source": [
    "# Create new matplotlib figure.\n",
    "fig = plt.figure(figsize=(10, 5))\n",
    "\n",
    "# Create seperate ReviewCount datasets based on Rating value\n",
    "data1 = df['ReviewCount'].loc[df['Rating']==5.0]\n",
    "data2 = df['ReviewCount'].loc[df['Rating']==4.5]\n",
    "data3 = df['ReviewCount'].loc[df['Rating']==4.0]\n",
    "data4 = df['ReviewCount'].loc[df['Rating']==3.5]\n",
    "data5 = df['ReviewCount'].loc[df['Rating']==3.0]\n",
    "data6 = df['ReviewCount'].loc[df['Rating']==2.5]\n",
    "\n",
    "# Combine ReviewCount datasets into list\n",
    "data = [data1,data2,data3,data4,data5,data6]\n",
    "\n",
    "# Create boxplots of ReviewCount for each Rating value\n",
    "plt.boxplot(data, vert=True)\n",
    "# Set y-scale to be 'log'\n",
    "plt.yscale('log')\n",
    "# Set x-label\n",
    "plt.xlabel(\"Rating\")\n",
    "# Set x-ticks\n",
    "plt.xticks([1,2,3,4,5,6],[5.0,4.5,4.0,3.5,3.0,2.5])\n",
    "# Set title\n",
    "plt.title(\"Distribution of ReviewCount for Different Ratings\")\n",
    "# Set y-label\n",
    "plt.ylabel(\"ReviewCount\")\n",
    "# Set layout tight\n",
    "plt.tight_layout()\n",
    "# Display only the plot\n",
    "plt.show()"
   ]
  },
  {
   "cell_type": "markdown",
   "metadata": {},
   "source": [
    "**Comments on ReviewCount vs. Rating Boxplots:**\n",
    "\n",
    "We transformed the plot to be on a logarithmic scale in order to better shows trends within the data that would otherwise be obscured.\n",
    "\n",
    "The Rating values of 3.0 and 2.5 are extremely rare in this dataset, so both their variation and their values are not representative of the true population of lower-end museums. At sample sizes that small, variation is much higher and extreme values are much more likely. Therefore, we will not tend to include the Rating values of 3.0 and 2.5 in our discussion.\n",
    "\n",
    "Variation among ReviewCount seems to be decreased at moderate Rating value of 4.0 and 3.5. \n",
    "\n",
    "It appears that, generally speaking, ReviewCount increases as Rating increases. This could suggest that higher ReviewCounts show higher popularity in a positive way.\n",
    "\n",
    "<hr>"
   ]
  },
  {
   "cell_type": "markdown",
   "metadata": {},
   "source": [
    "**Analysis of ReviewCount means:**"
   ]
  },
  {
   "cell_type": "code",
   "execution_count": 46,
   "metadata": {},
   "outputs": [
    {
     "name": "stdout",
     "output_type": "stream",
     "text": [
      "\u001b[30mRating: 2.5 \u001b[35mReviewCount mean: 687.0\n",
      "\u001b[30mRating: 3.0 \u001b[35mReviewCount mean: 1757.0\n",
      "\u001b[30mRating: 3.5 \u001b[35mReviewCount mean: 729.5384615384615\n",
      "\u001b[30mRating: 4.0 \u001b[35mReviewCount mean: 723.8831168831168\n",
      "\u001b[30mRating: 4.5 \u001b[35mReviewCount mean: 1812.1441090555015\n",
      "\u001b[30mRating: 5.0 \u001b[35mReviewCount mean: 1996.5775862068965\n"
     ]
    }
   ],
   "source": [
    "# Grab unique Rating values and sort\n",
    "unique_vals = sorted(df['Rating'].unique())\n",
    "\n",
    "# For each Rating value, print ReviewCount mean\n",
    "for i in unique_vals:\n",
    "    print(Fore.BLACK + \"Rating: \" + str(i), \\\n",
    "          Fore.MAGENTA + \"ReviewCount mean: \" + str(df['ReviewCount'].loc[df['Rating']==i].mean()))\n"
   ]
  },
  {
   "cell_type": "markdown",
   "metadata": {},
   "source": [
    "As seen in the boxplots, higher Rating values tend to correspond with higher ReviewCounts. This finding is supported by looking at their means as well."
   ]
  },
  {
   "cell_type": "markdown",
   "metadata": {},
   "source": [
    "### Rating vs. Patron Type"
   ]
  },
  {
   "cell_type": "code",
   "execution_count": 47,
   "metadata": {},
   "outputs": [
    {
     "data": {
      "text/html": [
       "<div>\n",
       "<style scoped>\n",
       "    .dataframe tbody tr th:only-of-type {\n",
       "        vertical-align: middle;\n",
       "    }\n",
       "\n",
       "    .dataframe tbody tr th {\n",
       "        vertical-align: top;\n",
       "    }\n",
       "\n",
       "    .dataframe thead th {\n",
       "        text-align: right;\n",
       "    }\n",
       "</style>\n",
       "<table border=\"1\" class=\"dataframe\">\n",
       "  <thead>\n",
       "    <tr style=\"text-align: right;\">\n",
       "      <th></th>\n",
       "      <th>Rating</th>\n",
       "      <th>Couples_Count</th>\n",
       "      <th>Solo_Count</th>\n",
       "      <th>Families_Count</th>\n",
       "      <th>Business_Count</th>\n",
       "    </tr>\n",
       "  </thead>\n",
       "  <tbody>\n",
       "    <tr>\n",
       "      <th>0</th>\n",
       "      <td>4.5</td>\n",
       "      <td>1524.0</td>\n",
       "      <td>425.0</td>\n",
       "      <td>1587.0</td>\n",
       "      <td>363.0</td>\n",
       "    </tr>\n",
       "    <tr>\n",
       "      <th>4</th>\n",
       "      <td>5.0</td>\n",
       "      <td>6264.0</td>\n",
       "      <td>2131.0</td>\n",
       "      <td>5072.0</td>\n",
       "      <td>638.0</td>\n",
       "    </tr>\n",
       "    <tr>\n",
       "      <th>5</th>\n",
       "      <td>5.0</td>\n",
       "      <td>6224.0</td>\n",
       "      <td>822.0</td>\n",
       "      <td>2970.0</td>\n",
       "      <td>774.0</td>\n",
       "    </tr>\n",
       "    <tr>\n",
       "      <th>6</th>\n",
       "      <td>4.5</td>\n",
       "      <td>467.0</td>\n",
       "      <td>137.0</td>\n",
       "      <td>1031.0</td>\n",
       "      <td>74.0</td>\n",
       "    </tr>\n",
       "    <tr>\n",
       "      <th>7</th>\n",
       "      <td>5.0</td>\n",
       "      <td>4064.0</td>\n",
       "      <td>1421.0</td>\n",
       "      <td>2759.0</td>\n",
       "      <td>829.0</td>\n",
       "    </tr>\n",
       "  </tbody>\n",
       "</table>\n",
       "</div>"
      ],
      "text/plain": [
       "   Rating  Couples_Count  Solo_Count  Families_Count  Business_Count\n",
       "0     4.5         1524.0       425.0          1587.0           363.0\n",
       "4     5.0         6264.0      2131.0          5072.0           638.0\n",
       "5     5.0         6224.0       822.0          2970.0           774.0\n",
       "6     4.5          467.0       137.0          1031.0            74.0\n",
       "7     5.0         4064.0      1421.0          2759.0           829.0"
      ]
     },
     "execution_count": 47,
     "metadata": {},
     "output_type": "execute_result"
    }
   ],
   "source": [
    "# Displays subset of DataFrame with the pertinent columns.\n",
    "df[['Rating','Couples_Count','Solo_Count',\\\n",
    "    'Families_Count','Business_Count']].head()"
   ]
  },
  {
   "cell_type": "code",
   "execution_count": 48,
   "metadata": {},
   "outputs": [
    {
     "name": "stdout",
     "output_type": "stream",
     "text": [
      "Couples_Count     978\n",
      "Families_Count    419\n",
      "Solo_Count          5\n",
      "Name: Majority_Patron_Type, dtype: int64\n"
     ]
    },
    {
     "data": {
      "image/png": "[encoded data removed]",
      "text/plain": [
       "<Figure size 432x288 with 1 Axes>"
      ]
     },
     "metadata": {},
     "output_type": "display_data"
    }
   ],
   "source": [
    "# Create new column based on the patron type column \n",
    "# with the highest value per row\n",
    "df['Majority_Patron_Type'] = df[['Couples_Count','Solo_Count',\\\n",
    "        'Families_Count','Business_Count']].idxmax(axis=1)\n",
    "\n",
    "# Plot the value counts of this new column\n",
    "df['Majority_Patron_Type'].value_counts().plot.bar(cmap=cmap)\n",
    "\n",
    "# Print the value counts\n",
    "print(df['Majority_Patron_Type'].value_counts())"
   ]
  },
  {
   "cell_type": "markdown",
   "metadata": {},
   "source": [
    "**Comments on Value Count Bar Plot:** <br>\n",
    "It appears that the most common patron types are Couples and Families, with Couples being nearly twice as common as Families. "
   ]
  },
  {
   "cell_type": "code",
   "execution_count": 49,
   "metadata": {},
   "outputs": [
    {
     "data": {
      "image/png": "[encoded data removed]",
      "text/plain": [
       "<Figure size 1080x360 with 3 Axes>"
      ]
     },
     "metadata": {},
     "output_type": "display_data"
    }
   ],
   "source": [
    "# Create seperate Rating datasets based on majority patron type value\n",
    "couples = df['Rating'].loc[df['Majority_Patron_Type']=='Couples_Count']\n",
    "families = df['Rating'].loc[df['Majority_Patron_Type']=='Families_Count']\n",
    "solos = df['Rating'].loc[df['Majority_Patron_Type']=='Solo_Count']\n",
    "\n",
    "# Create new matplotlib figure.\n",
    "fig1 = plt.figure(figsize=(15, 5))\n",
    "# Add sub-plot to figure.\n",
    "axes1 = fig1.add_subplot(1, 3, 1)\n",
    "# Set title.\n",
    "axes1.set_title(\"Couples as Majority Patron\")\n",
    "# Set x-label\n",
    "axes1.set_xlabel(\"Rating\")\n",
    "# Set y-label\n",
    "axes1.set_ylabel(\"Number of rows\")\n",
    "# Show rank distribution.\n",
    "plt.hist(couples, color=\"purple\")\n",
    "\n",
    "# Add sub-plot to figure.\n",
    "axes2 = fig1.add_subplot(1, 3, 2)\n",
    "# Set title.\n",
    "axes2.set_title(\"Families as Majority Patron\")\n",
    "# Set x-label\n",
    "axes2.set_xlabel(\"Rating\")\n",
    "# Set y-label\n",
    "axes2.set_ylabel(\"Number of rows\")\n",
    "# Show rank distribution.\n",
    "plt.hist(families, color=\"purple\")\n",
    "\n",
    "# Add sub-plot to figure.\n",
    "axes3 = fig1.add_subplot(1, 3, 3)\n",
    "# Set title.\n",
    "axes3.set_title(\"Solo as Majority Patron\")\n",
    "# Set x-label\n",
    "axes3.set_xlabel(\"Rating\")\n",
    "# Set y-label\n",
    "axes3.set_ylabel(\"Number of rows\")\n",
    "# Show rank distribution.\n",
    "plt.hist(solos, color=\"purple\")\n",
    "\n",
    "# Set layout to tight\n",
    "plt.tight_layout()\n",
    "# Display only the plot\n",
    "plt.show()"
   ]
  },
  {
   "cell_type": "markdown",
   "metadata": {},
   "source": [
    "**Comments on Majority Patron Type vs. Rating Histograms:**\n",
    "\n",
    "It appears that couples have the most left-skewed histogram, which suggests that museums with a majority of their patrons being couples tend to have higher ratings. Museums with majority of families have a pretty symmetrics distribution, centered around 4.5, while museums with majority of singles have a strictly unimodal distribution. Since no museum had majority of business patrons, we cannot plot its distribution.\n",
    "\n",
    "Since we do not have individual rating data (i.e. who gave the ratings), we will have to generalize. By looking at these charts, we can see that museums with a higher proportion of couples are more likely to have higher ratings."
   ]
  },
  {
   "cell_type": "markdown",
   "metadata": {},
   "source": [
    "### Rating vs. Number of Features"
   ]
  },
  {
   "cell_type": "code",
   "execution_count": 50,
   "metadata": {},
   "outputs": [
    {
     "data": {
      "text/html": [
       "<div>\n",
       "<style scoped>\n",
       "    .dataframe tbody tr th:only-of-type {\n",
       "        vertical-align: middle;\n",
       "    }\n",
       "\n",
       "    .dataframe tbody tr th {\n",
       "        vertical-align: top;\n",
       "    }\n",
       "\n",
       "    .dataframe thead th {\n",
       "        text-align: right;\n",
       "    }\n",
       "</style>\n",
       "<table border=\"1\" class=\"dataframe\">\n",
       "  <thead>\n",
       "    <tr style=\"text-align: right;\">\n",
       "      <th></th>\n",
       "      <th>Rating</th>\n",
       "      <th>FeatureCount</th>\n",
       "    </tr>\n",
       "  </thead>\n",
       "  <tbody>\n",
       "    <tr>\n",
       "      <th>0</th>\n",
       "      <td>4.5</td>\n",
       "      <td>3.0</td>\n",
       "    </tr>\n",
       "    <tr>\n",
       "      <th>4</th>\n",
       "      <td>5.0</td>\n",
       "      <td>12.0</td>\n",
       "    </tr>\n",
       "    <tr>\n",
       "      <th>5</th>\n",
       "      <td>5.0</td>\n",
       "      <td>11.0</td>\n",
       "    </tr>\n",
       "    <tr>\n",
       "      <th>6</th>\n",
       "      <td>4.5</td>\n",
       "      <td>0.0</td>\n",
       "    </tr>\n",
       "    <tr>\n",
       "      <th>7</th>\n",
       "      <td>5.0</td>\n",
       "      <td>5.0</td>\n",
       "    </tr>\n",
       "  </tbody>\n",
       "</table>\n",
       "</div>"
      ],
      "text/plain": [
       "   Rating  FeatureCount\n",
       "0     4.5           3.0\n",
       "4     5.0          12.0\n",
       "5     5.0          11.0\n",
       "6     4.5           0.0\n",
       "7     5.0           5.0"
      ]
     },
     "execution_count": 50,
     "metadata": {},
     "output_type": "execute_result"
    }
   ],
   "source": [
    "# Displays subset of DataFrame with the pertinent columns.\n",
    "df[['Rating', 'FeatureCount']].head()"
   ]
  },
  {
   "cell_type": "code",
   "execution_count": 51,
   "metadata": {},
   "outputs": [
    {
     "data": {
      "image/png": "[encoded data removed]",
      "text/plain": [
       "<Figure size 360x360 with 1 Axes>"
      ]
     },
     "metadata": {},
     "output_type": "display_data"
    }
   ],
   "source": [
    "# Create new matplotlib figure.\n",
    "fig = plt.figure(figsize=(5, 5))\n",
    "\n",
    "# Find FeatureCount mean for each Rating value\n",
    "data1 = df['FeatureCount'].loc[df['Rating']==5.0].mean()\n",
    "data2 = df['FeatureCount'].loc[df['Rating']==4.5].mean()\n",
    "data3 = df['FeatureCount'].loc[df['Rating']==4.0].mean()\n",
    "data4 = df['FeatureCount'].loc[df['Rating']==3.5].mean()\n",
    "data5 = df['FeatureCount'].loc[df['Rating']==3.0].mean()\n",
    "data6 = df['FeatureCount'].loc[df['Rating']==2.5].mean()\n",
    "\n",
    "# Create a scatter plot of Rating values to FeatureCount Mean\n",
    "plt.scatter(x = [5.0,4.5,4.0,3.5,3.0,2.5], y = [data1,data2,data3,data4,data5,data6], color='purple')\n",
    "# Set x-label\n",
    "plt.xlabel(\"Rating\")\n",
    "# Set title\n",
    "plt.title(\"Distribution of FeatureCount Mean for Different Ratings\")\n",
    "# Set y-label\n",
    "plt.ylabel(\"FeatureCount Mean\")\n",
    "# Set layout tight\n",
    "plt.tight_layout()\n",
    "# Display only the plot\n",
    "plt.show()"
   ]
  },
  {
   "cell_type": "markdown",
   "metadata": {},
   "source": [
    "**Comments for FeatureCount mean vs. Rating scatterplot:**\n",
    "\n",
    "As can be seen in the scatterplot, higher Rating values coincided with higher FeatureCount means. This shows that museums with more features have a higher likelihood of getting a better Rating than other museums.\n",
    "\n",
    "One thing to note is that museums with 5.0 ratings tended to have moderate FeatureCount means. This may indicate a trend of the top-tier museums to be focused on quality instead of quantity, making their few features count rather than bombarding patrons with too many things to look at."
   ]
  },
  {
   "cell_type": "markdown",
   "metadata": {},
   "source": [
    "## 8. Reporting Results\n",
    "---"
   ]
  },
  {
   "cell_type": "markdown",
   "metadata": {},
   "source": [
    "## Major Findings:"
   ]
  },
  {
   "cell_type": "markdown",
   "metadata": {},
   "source": [
    "Display numeric ReviewCount analysis:"
   ]
  },
  {
   "cell_type": "code",
   "execution_count": 52,
   "metadata": {},
   "outputs": [
    {
     "name": "stdout",
     "output_type": "stream",
     "text": [
      "\u001b[30mRating: 2.5 \u001b[35mReviewCount mean: 687.0\n",
      "\u001b[30mRating: 3.0 \u001b[35mReviewCount mean: 1757.0\n",
      "\u001b[30mRating: 3.5 \u001b[35mReviewCount mean: 729.5384615384615\n",
      "\u001b[30mRating: 4.0 \u001b[35mReviewCount mean: 723.8831168831168\n",
      "\u001b[30mRating: 4.5 \u001b[35mReviewCount mean: 1812.1441090555015\n",
      "\u001b[30mRating: 5.0 \u001b[35mReviewCount mean: 1996.5775862068965\n"
     ]
    }
   ],
   "source": [
    "# Grab unique Rating values and sort\n",
    "unique_vals = sorted(df['Rating'].unique())\n",
    "\n",
    "# For each Rating value, print ReviewCount mean\n",
    "for i in unique_vals:\n",
    "    print(Fore.BLACK + \"Rating: \" + str(i), \\\n",
    "          Fore.MAGENTA + \"ReviewCount mean: \" + str(df['ReviewCount'].loc[df['Rating']==i].mean()))"
   ]
  },
  {
   "cell_type": "markdown",
   "metadata": {},
   "source": [
    "### 1) Effect of ReviewCount\n",
    "> We found that, generally speaking, higher review counts suggested higher ratings. Rating values of 5.0 and 4.5 had the highest two ReviewCount means. (We can effectively ignore the high ReviewCount mean for Rating value of 3.0, as the small sample size surely skewed its descriptive statistics.) <br>\n",
    "> This may suggest that popularity in terms of ReviewCount is a positive attribute for museums. Had higher ReviewCounts corresponded with lower Ratings, we may have instead concluded that ReviewCount corresponded with bad publicity.\n",
    "  \n",
    "<br><br><br><br><br><br>\n",
    "<hr>\n"
   ]
  },
  {
   "cell_type": "markdown",
   "metadata": {},
   "source": [
    "Display graphical Majority Patron Type analysis:"
   ]
  },
  {
   "cell_type": "code",
   "execution_count": 53,
   "metadata": {},
   "outputs": [
    {
     "data": {
      "image/png": "[encoded data removed]",
      "text/plain": [
       "<Figure size 1080x360 with 3 Axes>"
      ]
     },
     "metadata": {},
     "output_type": "display_data"
    }
   ],
   "source": [
    "# Create seperate Rating datasets based on majority patron type value\n",
    "couples = df['Rating'].loc[df['Majority_Patron_Type']=='Couples_Count']\n",
    "families = df['Rating'].loc[df['Majority_Patron_Type']=='Families_Count']\n",
    "solos = df['Rating'].loc[df['Majority_Patron_Type']=='Solo_Count']\n",
    "\n",
    "# Create new matplotlib figure.\n",
    "fig1 = plt.figure(figsize=(15, 5))\n",
    "# Add sub-plot to figure.\n",
    "axes1 = fig1.add_subplot(1, 3, 1)\n",
    "# Set title.\n",
    "axes1.set_title(\"Couples as Majority Patron\")\n",
    "# Set x-label\n",
    "axes1.set_xlabel(\"Rating\")\n",
    "# Set y-label\n",
    "axes1.set_ylabel(\"Number of rows\")\n",
    "# Show rank distribution.\n",
    "plt.hist(couples, color=\"purple\")\n",
    "\n",
    "# Add sub-plot to figure.\n",
    "axes2 = fig1.add_subplot(1, 3, 2)\n",
    "# Set title.\n",
    "axes2.set_title(\"Families as Majority Patron\")\n",
    "# Set x-label\n",
    "axes2.set_xlabel(\"Rating\")\n",
    "# Set y-label\n",
    "axes2.set_ylabel(\"Number of rows\")\n",
    "# Show rank distribution.\n",
    "plt.hist(families, color=\"purple\")\n",
    "\n",
    "# Add sub-plot to figure.\n",
    "axes3 = fig1.add_subplot(1, 3, 3)\n",
    "# Set title.\n",
    "axes3.set_title(\"Solo as Majority Patron\")\n",
    "# Set x-label\n",
    "axes3.set_xlabel(\"Rating\")\n",
    "# Set y-label\n",
    "axes3.set_ylabel(\"Number of rows\")\n",
    "# Show rank distribution.\n",
    "plt.hist(solos, color=\"purple\")\n",
    "\n",
    "# Set layout to tight\n",
    "plt.tight_layout()\n",
    "# Display only the plot\n",
    "plt.show()"
   ]
  },
  {
   "cell_type": "markdown",
   "metadata": {},
   "source": [
    "### 2) Effect of Majority Patron Type\n",
    "> As can be seen in these distributions, the most left-skewed majority patron type was couples. Therefore, for museums that attract mainly couples, we would predict them to have a higher rating score.\n",
    "\n",
    "\n",
    "<br><br><br><br><br><br>\n",
    "<hr>"
   ]
  },
  {
   "cell_type": "code",
   "execution_count": 54,
   "metadata": {},
   "outputs": [
    {
     "data": {
      "image/png": "[encoded data removed]",
      "text/plain": [
       "<Figure size 360x360 with 1 Axes>"
      ]
     },
     "metadata": {},
     "output_type": "display_data"
    }
   ],
   "source": [
    "# Create new matplotlib figure.\n",
    "fig = plt.figure(figsize=(5, 5))\n",
    "\n",
    "# Find FeatureCount mean for each Rating value\n",
    "data1 = df['FeatureCount'].loc[df['Rating']==5.0].mean()\n",
    "data2 = df['FeatureCount'].loc[df['Rating']==4.5].mean()\n",
    "data3 = df['FeatureCount'].loc[df['Rating']==4.0].mean()\n",
    "data4 = df['FeatureCount'].loc[df['Rating']==3.5].mean()\n",
    "data5 = df['FeatureCount'].loc[df['Rating']==3.0].mean()\n",
    "data6 = df['FeatureCount'].loc[df['Rating']==2.5].mean()\n",
    "\n",
    "# Create a scatter plot of Rating values to FeatureCount Mean\n",
    "plt.scatter(x = [5.0,4.5,4.0,3.5,3.0,2.5], y = [data1,data2,data3,data4,data5,data6], color='purple')\n",
    "# Set x-label\n",
    "plt.xlabel(\"Rating\")\n",
    "# Set title\n",
    "plt.title(\"Distribution of FeatureCount Mean for Different Ratings\")\n",
    "# Set y-label\n",
    "plt.ylabel(\"FeatureCount Mean\")\n",
    "# Set layout tight\n",
    "plt.tight_layout()\n",
    "# Display only the plot\n",
    "plt.show()"
   ]
  },
  {
   "cell_type": "markdown",
   "metadata": {},
   "source": [
    "### 3) Effect of FeatureCount\n",
    "> As can be seen from the scatterplot, museums with higher counts of features tended to have higher ratings, except for when the ratings reached the maximum at 5.0. It seems that using features as a ratings-booster only works up until you become top-tier. At that point, museums need to focus more on quality than quantity, and feature count stops being as important.\n",
    "\n",
    "<br><br><br><br><br><br>\n",
    "<hr>"
   ]
  },
  {
   "cell_type": "markdown",
   "metadata": {},
   "source": [
    "##  9. Conclusion\n",
    "---"
   ]
  },
  {
   "cell_type": "markdown",
   "metadata": {},
   "source": [
    "**What we have accomplished:**<br><br>\n",
    "1) Reading the CSV file into a pandas DataFrame <br>\n",
    "2) Describing the origins of and analysing the distributions of many of our dataset's attributes<br>\n",
    "3) Creating two new columns (City and Clean Phone Number)<br>\n",
    ">3a) Cleansed data by thinking of different potential formatting scenarios<br>\n",
    "\n",
    "4) Describing relationships between attributes and rating values<br>\n",
    ">4a) Used both matplotlib plotting functions as well as pandas built-in functions<br>\n",
    ">4b) Used various types of visualizations, including pie, bar, histogram, and scatter<br>\n",
    "\n",
    "5) Properly formatting a Jupyter Notebook for maximum clarity\n",
    "\n",
    "<br><br>\n",
    "**Lessons Learned:**\n",
    "\n",
    "1) Effects of incomplete data: <br>\n",
    "When looking at the distributions of certain attributes, it is apparent the effect of incomplete data on certain analyses. For example, when we made boxplots of ReviewCounts across Rating values, there were only lines representing Rating categories of 3.0 and 2.5, instead of a true boxplot like the rest of the categories. These lines were due to the fact that barely any museums in our dataset had review below 3.5. We mentioned that this may be a concern in the beginning, but its effects became apparent during analysis.\n",
    "Additionally, when looking at majority patron types, it was clear that no museums in our data had majority of business patrons. This makes sense, since business employees do not tend to do liesure activities often; yet, we cannot truly include them in our discussion, as we did not have representative data for that population. "
   ]
  },
  {
   "cell_type": "markdown",
   "metadata": {},
   "source": [
    "## 10. References"
   ]
  },
  {
   "cell_type": "markdown",
   "metadata": {},
   "source": [
    "Finding column with max value in list of columns:\n",
    "http://pandas.pydata.org/pandas-docs/stable/generated/pandas.DataFrame.idxmax.html\n",
    "\n",
    "Sort items in list:\n",
    "https://stackoverflow.com/questions/32072076/find-the-unique-values-in-a-column-and-then-sort-them\n",
    "\n",
    "Data source:\n",
    "https://www.kaggle.com/annecool37/museum-data"
   ]
  },
  {
   "cell_type": "code",
   "execution_count": null,
   "metadata": {},
   "outputs": [],
   "source": []
  }
 ],
 "metadata": {
  "kernelspec": {
   "display_name": "Python 3",
   "language": "python",
   "name": "python3"
  },
  "language_info": {
   "codemirror_mode": {
    "name": "ipython",
    "version": 3
   },
   "file_extension": ".py",
   "mimetype": "text/x-python",
   "name": "python",
   "nbconvert_exporter": "python",
   "pygments_lexer": "ipython3",
   "version": "3.6.1"
  }
 },
 "nbformat": 4,
 "nbformat_minor": 2
}
