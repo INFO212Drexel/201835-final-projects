{
 "cells": [
  {
   "cell_type": "markdown",
   "metadata": {
    "colab_type": "text",
    "id": "3gbA5zI24dmQ"
   },
   "source": [
    "### College of Computing and Informatics, Drexel University\n",
    "### INFO 212: Data Science Programming I, Spring 2018\n",
    "---\n",
    "\n",
    "## Project Title: Analysis of Student Academic Performance\n",
    "\n",
    "## Student(s): Ashik Vaghjiyani and Michael Tolvaisa\n",
    "\n",
    "#### Date: June 3, 2018\n",
    "---"
   ]
  },
  {
   "cell_type": "markdown",
   "metadata": {
    "colab_type": "text",
    "id": "Npegn2z94dmW"
   },
   "source": [
    "### 1. Introduction\n",
    "---"
   ]
  },
  {
   "cell_type": "markdown",
   "metadata": {
    "colab_type": "text",
    "id": "zXCYNNIG80nI"
   },
   "source": [
    "The purpose of this project is to study relationship between students academic achivements and progress based on variety of factors including class participation and parents involvment in their studies. The project utilizes a dataset which tracked students' academic performance over the course of two semesters.\n",
    "\n",
    "This dataset contains information on a total of 480 students across primary education, middle school, and high school. The dataset includes a total of 305 males and 175 females from 14 different nationalities. \n",
    "\n",
    "The dataset features are organized into three major categories:\n",
    "  1. Demographic features such as gender and nationality.\n",
    "  2. Academic background such as grade level.\n",
    "  3. Behavorial features such as class participation and parent participation.\n",
    "\n",
    "More specifically, the following attributes are present for each student in this database:\n",
    "  + Demographic Features:\n",
    "    + Gender\n",
    "    + Nationality\n",
    "    + Place of Birth\n",
    "  + Academic Background\n",
    "    + Educational Stage (Primary School, Middle School, High School)\n",
    "    + Grade Levels\n",
    "    + Classroom Section\n",
    "    + Course Topic (English, Chemistry, Math, etc.)\n",
    "    + Semester\n",
    "  + Behavioral Features\n",
    "      + Parent Responsible for Student\n",
    "      + Number of Hands Raised\n",
    "      + Number of Course Resource Visits\n",
    "      + Number of Announcement Checks\n",
    "      + Number of Discussion Group Participations\n",
    "      + Parental Survey Responses\n",
    "      + Parental Satisfaction\n",
    "      + Number of Student Absences\n",
    "  + Overall Student Performance Level\n",
    "  \n",
    "The overall student performance level feature is a measure of how the student performs in their course curriculum. Students are divided into three performance levels based on their overall grade:\n",
    "  + Low Level: Total Grade below 70\n",
    "  + Middle Level: Total Grade between 70 and 90\n",
    "  + High Level: Total Grade above 90"
   ]
  },
  {
   "cell_type": "markdown",
   "metadata": {
    "colab_type": "text",
    "id": "vsf4a_CQ4dmi"
   },
   "source": [
    "### 2. Problem Definition\n",
    "---"
   ]
  },
  {
   "cell_type": "markdown",
   "metadata": {
    "colab_type": "text",
    "id": "t-Zr4J3G86Lq"
   },
   "source": [
    "With our analysis of this dataset, we will be attempting to draw correlations between the academic performance of students and various background features in the lives of these students, including features both directly and indirectly involved in their education. Specific situations we will be analysing include:\n",
    "  + The relationship between student involvement in courses (participation in-class and in discussions, usage of course resources, number of absences) and student academic performance.\n",
    "  + The relationship between parent involvement in student life (parental survey responses, parental satisfaction) and student academic performance.\n",
    "  + Any relationships between student performance and academic background features:\n",
    "    + Grade Level performance in various Topics.\n",
    "    + Performance Level change across Semesters for different Grade Levels.\n",
    "    + Performance Level based on Classroom Section.\n",
    "\n",
    "Our results may be of interest to school administrators and curicculum writers, allowing for curicculums to be better designed to benefit low-performing students. Results from this study may be utilized in the creation of predictive models which can be used to increase student performance by addressing certain weaknesses in academic and behavioral fields."
   ]
  },
  {
   "cell_type": "markdown",
   "metadata": {
    "colab_type": "text",
    "id": "DbqWypTH4dmr"
   },
   "source": [
    "### 3. Data Sources\n",
    "---"
   ]
  },
  {
   "cell_type": "markdown",
   "metadata": {
    "colab_type": "text",
    "id": "_5NnBRJQ50qK"
   },
   "source": [
    "This dataset was collected from the Kalboard 360 learning management system using the experience API (xAPI) by a group of researchers from the University of Jordan. It was formatted and uploaded to Kaggle in its current form by Dr. Ibraham Alijarah in November 2016.\n",
    "\n",
    "This dataset is stored as a .csv file.\n",
    "\n",
    "This dataset can be accessed directly via the following link: https://www.kaggle.com/aljarah/xAPI-Edu-Data/data"
   ]
  },
  {
   "cell_type": "markdown",
   "metadata": {
    "colab_type": "text",
    "id": "51KmdY4q4dm0"
   },
   "source": [
    "### 4. Analysis\n",
    "---"
   ]
  },
  {
   "cell_type": "code",
   "execution_count": 6,
   "metadata": {
    "colab": {
     "autoexec": {
      "startup": false,
      "wait_interval": 0
     },
     "base_uri": "https://localhost:8080/",
     "height": 73,
     "resources": {
      "http://localhost:8080/nbextensions/google.colab/files.js": {
       "data": "Ly8gQ29weXJpZ2h0IDIwMTcgR29vZ2xlIExMQwovLwovLyBMaWNlbnNlZCB1bmRlciB0aGUgQXBhY2hlIExpY2Vuc2UsIFZlcnNpb24gMi4wICh0aGUgIkxpY2Vuc2UiKTsKLy8geW91IG1heSBub3QgdXNlIHRoaXMgZmlsZSBleGNlcHQgaW4gY29tcGxpYW5jZSB3aXRoIHRoZSBMaWNlbnNlLgovLyBZb3UgbWF5IG9idGFpbiBhIGNvcHkgb2YgdGhlIExpY2Vuc2UgYXQKLy8KLy8gICAgICBodHRwOi8vd3d3LmFwYWNoZS5vcmcvbGljZW5zZXMvTElDRU5TRS0yLjAKLy8KLy8gVW5sZXNzIHJlcXVpcmVkIGJ5IGFwcGxpY2FibGUgbGF3IG9yIGFncmVlZCB0byBpbiB3cml0aW5nLCBzb2Z0d2FyZQovLyBkaXN0cmlidXRlZCB1bmRlciB0aGUgTGljZW5zZSBpcyBkaXN0cmlidXRlZCBvbiBhbiAiQVMgSVMiIEJBU0lTLAovLyBXSVRIT1VUIFdBUlJBTlRJRVMgT1IgQ09ORElUSU9OUyBPRiBBTlkgS0lORCwgZWl0aGVyIGV4cHJlc3Mgb3IgaW1wbGllZC4KLy8gU2VlIHRoZSBMaWNlbnNlIGZvciB0aGUgc3BlY2lmaWMgbGFuZ3VhZ2UgZ292ZXJuaW5nIHBlcm1pc3Npb25zIGFuZAovLyBsaW1pdGF0aW9ucyB1bmRlciB0aGUgTGljZW5zZS4KCi8qKgogKiBAZmlsZW92ZXJ2aWV3IEhlbHBlcnMgZm9yIGdvb2dsZS5jb2xhYiBQeXRob24gbW9kdWxlLgogKi8KKGZ1bmN0aW9uKHNjb3BlKSB7CmZ1bmN0aW9uIHNwYW4odGV4dCwgc3R5bGVBdHRyaWJ1dGVzID0ge30pIHsKICBjb25zdCBlbGVtZW50ID0gZG9jdW1lbnQuY3JlYXRlRWxlbWVudCgnc3BhbicpOwogIGVsZW1lbnQudGV4dENvbnRlbnQgPSB0ZXh0OwogIGZvciAoY29uc3Qga2V5IG9mIE9iamVjdC5rZXlzKHN0eWxlQXR0cmlidXRlcykpIHsKICAgIGVsZW1lbnQuc3R5bGVba2V5XSA9IHN0eWxlQXR0cmlidXRlc1trZXldOwogIH0KICByZXR1cm4gZWxlbWVudDsKfQoKLy8gTWF4IG51bWJlciBvZiBieXRlcyB3aGljaCB3aWxsIGJlIHVwbG9hZGVkIGF0IGEgdGltZS4KY29uc3QgTUFYX1BBWUxPQURfU0laRSA9IDEwMCAqIDEwMjQ7Ci8vIE1heCBhbW91bnQgb2YgdGltZSB0byBibG9jayB3YWl0aW5nIGZvciB0aGUgdXNlci4KY29uc3QgRklMRV9DSEFOR0VfVElNRU9VVF9NUyA9IDMwICogMTAwMDsKCmZ1bmN0aW9uIF91cGxvYWRGaWxlcyhpbnB1dElkLCBvdXRwdXRJZCkgewogIGNvbnN0IHN0ZXBzID0gdXBsb2FkRmlsZXNTdGVwKGlucHV0SWQsIG91dHB1dElkKTsKICBjb25zdCBvdXRwdXRFbGVtZW50ID0gZG9jdW1lbnQuZ2V0RWxlbWVudEJ5SWQob3V0cHV0SWQpOwogIC8vIENhY2hlIHN0ZXBzIG9uIHRoZSBvdXRwdXRFbGVtZW50IHRvIG1ha2UgaXQgYXZhaWxhYmxlIGZvciB0aGUgbmV4dCBjYWxsCiAgLy8gdG8gdXBsb2FkRmlsZXNDb250aW51ZSBmcm9tIFB5dGhvbi4KICBvdXRwdXRFbGVtZW50LnN0ZXBzID0gc3RlcHM7CgogIHJldHVybiBfdXBsb2FkRmlsZXNDb250aW51ZShvdXRwdXRJZCk7Cn0KCi8vIFRoaXMgaXMgcm91Z2hseSBhbiBhc3luYyBnZW5lcmF0b3IgKG5vdCBzdXBwb3J0ZWQgaW4gdGhlIGJyb3dzZXIgeWV0KSwKLy8gd2hlcmUgdGhlcmUgYXJlIG11bHRpcGxlIGFzeW5jaHJvbm91cyBzdGVwcyBhbmQgdGhlIFB5dGhvbiBzaWRlIGlzIGdvaW5nCi8vIHRvIHBvbGwgZm9yIGNvbXBsZXRpb24gb2YgZWFjaCBzdGVwLgovLyBUaGlzIHVzZXMgYSBQcm9taXNlIHRvIGJsb2NrIHRoZSBweXRob24gc2lkZSBvbiBjb21wbGV0aW9uIG9mIGVhY2ggc3RlcCwKLy8gdGhlbiBwYXNzZXMgdGhlIHJlc3VsdCBvZiB0aGUgcHJldmlvdXMgc3RlcCBhcyB0aGUgaW5wdXQgdG8gdGhlIG5leHQgc3RlcC4KZnVuY3Rpb24gX3VwbG9hZEZpbGVzQ29udGludWUob3V0cHV0SWQpIHsKICBjb25zdCBvdXRwdXRFbGVtZW50ID0gZG9jdW1lbnQuZ2V0RWxlbWVudEJ5SWQob3V0cHV0SWQpOwogIGNvbnN0IHN0ZXBzID0gb3V0cHV0RWxlbWVudC5zdGVwczsKCiAgY29uc3QgbmV4dCA9IHN0ZXBzLm5leHQob3V0cHV0RWxlbWVudC5sYXN0UHJvbWlzZVZhbHVlKTsKICByZXR1cm4gUHJvbWlzZS5yZXNvbHZlKG5leHQudmFsdWUucHJvbWlzZSkudGhlbigodmFsdWUpID0+IHsKICAgIC8vIENhY2hlIHRoZSBsYXN0IHByb21pc2UgdmFsdWUgdG8gbWFrZSBpdCBhdmFpbGFibGUgdG8gdGhlIG5leHQKICAgIC8vIHN0ZXAgb2YgdGhlIGdlbmVyYXRvci4KICAgIG91dHB1dEVsZW1lbnQubGFzdFByb21pc2VWYWx1ZSA9IHZhbHVlOwogICAgcmV0dXJuIG5leHQudmFsdWUucmVzcG9uc2U7CiAgfSk7Cn0KCi8qKgogKiBHZW5lcmF0b3IgZnVuY3Rpb24gd2hpY2ggaXMgY2FsbGVkIGJldHdlZW4gZWFjaCBhc3luYyBzdGVwIG9mIHRoZSB1cGxvYWQKICogcHJvY2Vzcy4KICogQHBhcmFtIHtzdHJpbmd9IGlucHV0SWQgRWxlbWVudCBJRCBvZiB0aGUgaW5wdXQgZmlsZSBwaWNrZXIgZWxlbWVudC4KICogQHBhcmFtIHtzdHJpbmd9IG91dHB1dElkIEVsZW1lbnQgSUQgb2YgdGhlIG91dHB1dCBkaXNwbGF5LgogKiBAcmV0dXJuIHshSXRlcmFibGU8IU9iamVjdD59IEl0ZXJhYmxlIG9mIG5leHQgc3RlcHMuCiAqLwpmdW5jdGlvbiogdXBsb2FkRmlsZXNTdGVwKGlucHV0SWQsIG91dHB1dElkKSB7CiAgY29uc3QgaW5wdXRFbGVtZW50ID0gZG9jdW1lbnQuZ2V0RWxlbWVudEJ5SWQoaW5wdXRJZCk7CiAgaW5wdXRFbGVtZW50LmRpc2FibGVkID0gZmFsc2U7CgogIGNvbnN0IG91dHB1dEVsZW1lbnQgPSBkb2N1bWVudC5nZXRFbGVtZW50QnlJZChvdXRwdXRJZCk7CiAgb3V0cHV0RWxlbWVudC5pbm5lckhUTUwgPSAnJzsKCiAgY29uc3QgcGlja2VkUHJvbWlzZSA9IG5ldyBQcm9taXNlKChyZXNvbHZlKSA9PiB7CiAgICBpbnB1dEVsZW1lbnQuYWRkRXZlbnRMaXN0ZW5lcignY2hhbmdlJywgKGUpID0+IHsKICAgICAgcmVzb2x2ZShlLnRhcmdldC5maWxlcyk7CiAgICB9KTsKICB9KTsKCiAgY29uc3QgY2FuY2VsID0gZG9jdW1lbnQuY3JlYXRlRWxlbWVudCgnYnV0dG9uJyk7CiAgaW5wdXRFbGVtZW50LnBhcmVudEVsZW1lbnQuYXBwZW5kQ2hpbGQoY2FuY2VsKTsKICBjYW5jZWwudGV4dENvbnRlbnQgPSAnQ2FuY2VsIHVwbG9hZCc7CiAgY29uc3QgY2FuY2VsUHJvbWlzZSA9IG5ldyBQcm9taXNlKChyZXNvbHZlKSA9PiB7CiAgICBjYW5jZWwub25jbGljayA9ICgpID0+IHsKICAgICAgcmVzb2x2ZShudWxsKTsKICAgIH07CiAgfSk7CgogIC8vIENhbmNlbCB1cGxvYWQgaWYgdXNlciBoYXNuJ3QgcGlja2VkIGFueXRoaW5nIGluIHRpbWVvdXQuCiAgY29uc3QgdGltZW91dFByb21pc2UgPSBuZXcgUHJvbWlzZSgocmVzb2x2ZSkgPT4gewogICAgc2V0VGltZW91dCgoKSA9PiB7CiAgICAgIHJlc29sdmUobnVsbCk7CiAgICB9LCBGSUxFX0NIQU5HRV9USU1FT1VUX01TKTsKICB9KTsKCiAgLy8gV2FpdCBmb3IgdGhlIHVzZXIgdG8gcGljayB0aGUgZmlsZXMuCiAgY29uc3QgZmlsZXMgPSB5aWVsZCB7CiAgICBwcm9taXNlOiBQcm9taXNlLnJhY2UoW3BpY2tlZFByb21pc2UsIHRpbWVvdXRQcm9taXNlLCBjYW5jZWxQcm9taXNlXSksCiAgICByZXNwb25zZTogewogICAgICBhY3Rpb246ICdzdGFydGluZycsCiAgICB9CiAgfTsKCiAgaWYgKCFmaWxlcykgewogICAgcmV0dXJuIHsKICAgICAgcmVzcG9uc2U6IHsKICAgICAgICBhY3Rpb246ICdjb21wbGV0ZScsCiAgICAgIH0KICAgIH07CiAgfQoKICBjYW5jZWwucmVtb3ZlKCk7CgogIC8vIERpc2FibGUgdGhlIGlucHV0IGVsZW1lbnQgc2luY2UgZnVydGhlciBwaWNrcyBhcmUgbm90IGFsbG93ZWQuCiAgaW5wdXRFbGVtZW50LmRpc2FibGVkID0gdHJ1ZTsKCiAgZm9yIChjb25zdCBmaWxlIG9mIGZpbGVzKSB7CiAgICBjb25zdCBsaSA9IGRvY3VtZW50LmNyZWF0ZUVsZW1lbnQoJ2xpJyk7CiAgICBsaS5hcHBlbmQoc3BhbihmaWxlLm5hbWUsIHtmb250V2VpZ2h0OiAnYm9sZCd9KSk7CiAgICBsaS5hcHBlbmQoc3BhbigKICAgICAgICBgKCR7ZmlsZS50eXBlIHx8ICduL2EnfSkgLSAke2ZpbGUuc2l6ZX0gYnl0ZXMsIGAgKwogICAgICAgIGBsYXN0IG1vZGlmaWVkOiAkewogICAgICAgICAgICBmaWxlLmxhc3RNb2RpZmllZERhdGUgPyBmaWxlLmxhc3RNb2RpZmllZERhdGUudG9Mb2NhbGVEYXRlU3RyaW5nKCkgOgogICAgICAgICAgICAgICAgICAgICAgICAgICAgICAgICAgICAnbi9hJ30gLSBgKSk7CiAgICBjb25zdCBwZXJjZW50ID0gc3BhbignMCUgZG9uZScpOwogICAgbGkuYXBwZW5kQ2hpbGQocGVyY2VudCk7CgogICAgb3V0cHV0RWxlbWVudC5hcHBlbmRDaGlsZChsaSk7CgogICAgY29uc3QgZmlsZURhdGFQcm9taXNlID0gbmV3IFByb21pc2UoKHJlc29sdmUpID0+IHsKICAgICAgY29uc3QgcmVhZGVyID0gbmV3IEZpbGVSZWFkZXIoKTsKICAgICAgcmVhZGVyLm9ubG9hZCA9IChlKSA9PiB7CiAgICAgICAgcmVzb2x2ZShlLnRhcmdldC5yZXN1bHQpOwogICAgICB9OwogICAgICByZWFkZXIucmVhZEFzQXJyYXlCdWZmZXIoZmlsZSk7CiAgICB9KTsKICAgIC8vIFdhaXQgZm9yIHRoZSBkYXRhIHRvIGJlIHJlYWR5LgogICAgbGV0IGZpbGVEYXRhID0geWllbGQgewogICAgICBwcm9taXNlOiBmaWxlRGF0YVByb21pc2UsCiAgICAgIHJlc3BvbnNlOiB7CiAgICAgICAgYWN0aW9uOiAnY29udGludWUnLAogICAgICB9CiAgICB9OwoKICAgIC8vIFVzZSBhIGNodW5rZWQgc2VuZGluZyB0byBhdm9pZCBtZXNzYWdlIHNpemUgbGltaXRzLiBTZWUgYi82MjExNTY2MC4KICAgIGxldCBwb3NpdGlvbiA9IDA7CiAgICB3aGlsZSAocG9zaXRpb24gPCBmaWxlRGF0YS5ieXRlTGVuZ3RoKSB7CiAgICAgIGNvbnN0IGxlbmd0aCA9IE1hdGgubWluKGZpbGVEYXRhLmJ5dGVMZW5ndGggLSBwb3NpdGlvbiwgTUFYX1BBWUxPQURfU0laRSk7CiAgICAgIGNvbnN0IGNodW5rID0gbmV3IFVpbnQ4QXJyYXkoZmlsZURhdGEsIHBvc2l0aW9uLCBsZW5ndGgpOwogICAgICBwb3NpdGlvbiArPSBsZW5ndGg7CgogICAgICBjb25zdCBiYXNlNjQgPSBidG9hKFN0cmluZy5mcm9tQ2hhckNvZGUuYXBwbHkobnVsbCwgY2h1bmspKTsKICAgICAgeWllbGQgewogICAgICAgIHJlc3BvbnNlOiB7CiAgICAgICAgICBhY3Rpb246ICdhcHBlbmQnLAogICAgICAgICAgZmlsZTogZmlsZS5uYW1lLAogICAgICAgICAgZGF0YTogYmFzZTY0LAogICAgICAgIH0sCiAgICAgIH07CiAgICAgIHBlcmNlbnQudGV4dENvbnRlbnQgPQogICAgICAgICAgYCR7TWF0aC5yb3VuZCgocG9zaXRpb24gLyBmaWxlRGF0YS5ieXRlTGVuZ3RoKSAqIDEwMCl9JSBkb25lYDsKICAgIH0KICB9CgogIC8vIEFsbCBkb25lLgogIHlpZWxkIHsKICAgIHJlc3BvbnNlOiB7CiAgICAgIGFjdGlvbjogJ2NvbXBsZXRlJywKICAgIH0KICB9Owp9CgpzY29wZS5nb29nbGUgPSBzY29wZS5nb29nbGUgfHwge307CnNjb3BlLmdvb2dsZS5jb2xhYiA9IHNjb3BlLmdvb2dsZS5jb2xhYiB8fCB7fTsKc2NvcGUuZ29vZ2xlLmNvbGFiLl9maWxlcyA9IHsKICBfdXBsb2FkRmlsZXMsCiAgX3VwbG9hZEZpbGVzQ29udGludWUsCn07Cn0pKHNlbGYpOwo=",
       "headers": [
        [
         "content-type",
         "application/javascript"
        ]
       ],
       "ok": true,
       "status": 200,
       "status_text": ""
      }
     }
    },
    "colab_type": "code",
    "executionInfo": {
     "elapsed": 8752,
     "status": "ok",
     "timestamp": 1528204211888,
     "user": {
      "displayName": "Ashik Vaghjiyani",
      "photoUrl": "//lh4.googleusercontent.com/-F6doR5_P3m8/AAAAAAAAAAI/AAAAAAAAADA/J8mBe3MN-XQ/s50-c-k-no/photo.jpg",
      "userId": "116948409578611637361"
     },
     "user_tz": 240
    },
    "id": "ibbrf9Ug4dm2",
    "outputId": "bdaddfc7-e081-4c51-956a-84b501f403c0"
   },
   "outputs": [
    {
     "data": {
      "text/html": [
       "\n",
       "     <input type=\"file\" id=\"files-b47c2379-b9d9-4773-8d19-b6916695480f\" name=\"files[]\" multiple disabled />\n",
       "     <output id=\"result-b47c2379-b9d9-4773-8d19-b6916695480f\">\n",
       "      Upload widget is only available when the cell has been executed in the\n",
       "      current browser session. Please rerun this cell to enable.\n",
       "      </output>\n",
       "      <script src=\"/nbextensions/google.colab/files.js\"></script> "
      ],
      "text/plain": [
       "<IPython.core.display.HTML object>"
      ]
     },
     "metadata": {
      "tags": []
     },
     "output_type": "display_data"
    },
    {
     "name": "stdout",
     "output_type": "stream",
     "text": [
      "Saving xAPI-Edu-Data.csv to xAPI-Edu-Data (1).csv\n"
     ]
    }
   ],
   "source": [
    "# Importing modules\n",
    "import numpy as np\n",
    "import pandas as pd\n",
    "import matplotlib.pyplot as plt\n",
    "%matplotlib inline\n",
    "plt.rc('figure', figsize=(10, 7))\n",
    "\n",
    "# Following modules are required to import dataset using Google Colab\n",
    "# This will allow you to choose and upload required dataset\n",
    "import io\n",
    "from google.colab import files\n",
    "uploaded = files.upload()"
   ]
  },
  {
   "cell_type": "code",
   "execution_count": null,
   "metadata": {
    "colab": {
     "autoexec": {
      "startup": false,
      "wait_interval": 0
     }
    },
    "colab_type": "code",
    "id": "HCjdNlmSPEOT"
   },
   "outputs": [],
   "source": [
    "# Reading csv file\n",
    "\n",
    "students_performance = pd.read_csv(io.StringIO(uploaded['xAPI-Edu-Data.csv'].decode('utf-8')), header=0)\n",
    "#students_performance.head()"
   ]
  },
  {
   "cell_type": "code",
   "execution_count": null,
   "metadata": {
    "colab": {
     "autoexec": {
      "startup": false,
      "wait_interval": 0
     }
    },
    "colab_type": "code",
    "id": "wXIVyk3ePFCw"
   },
   "outputs": [],
   "source": [
    "# Changing few of the column names to understand their purpose\n",
    "# \"StageID\" to \"Educational_Level\" & \"Class\" to \"Performance_Level\"\n",
    "\n",
    "students_performance.rename(columns={'StageID' : 'Educational_Level', 'Class' : 'Performance_Level'}, inplace=True)\n",
    "#students_performance.head()"
   ]
  },
  {
   "cell_type": "markdown",
   "metadata": {
    "colab_type": "text",
    "id": "D8J8Yri_W_uR"
   },
   "source": [
    "### Comparing number of hands raised and performance level:"
   ]
  },
  {
   "cell_type": "code",
   "execution_count": 11,
   "metadata": {
    "colab": {
     "autoexec": {
      "startup": false,
      "wait_interval": 0
     },
     "base_uri": "https://localhost:8080/",
     "height": 429
    },
    "colab_type": "code",
    "executionInfo": {
     "elapsed": 586,
     "status": "ok",
     "timestamp": 1528205269471,
     "user": {
      "displayName": "Ashik Vaghjiyani",
      "photoUrl": "//lh4.googleusercontent.com/-F6doR5_P3m8/AAAAAAAAAAI/AAAAAAAAADA/J8mBe3MN-XQ/s50-c-k-no/photo.jpg",
      "userId": "116948409578611637361"
     },
     "user_tz": 240
    },
    "id": "xJG1TtacXFPZ",
    "outputId": "d3e42d4f-54a4-4fad-bd28-d3d23b207c27"
   },
   "outputs": [
    {
     "data": {
      "image/png": "[encoded data removed]",
      "text/plain": [
       "<matplotlib.figure.Figure at 0x7fdd36dda128>"
      ]
     },
     "metadata": {
      "tags": []
     },
     "output_type": "display_data"
    }
   ],
   "source": [
    "x = students_performance['Performance_Level'].values\n",
    "y = students_performance['raisedhands'].values\n",
    "ax = plt.scatter(x, y, c='red')"
   ]
  },
  {
   "cell_type": "markdown",
   "metadata": {
    "colab_type": "text",
    "id": "JP2CUUU7JiWA"
   },
   "source": [
    "### Comparing discussion participation and performance level:"
   ]
  },
  {
   "cell_type": "code",
   "execution_count": 12,
   "metadata": {
    "colab": {
     "autoexec": {
      "startup": false,
      "wait_interval": 0
     },
     "base_uri": "https://localhost:8080/",
     "height": 429
    },
    "colab_type": "code",
    "executionInfo": {
     "elapsed": 474,
     "status": "ok",
     "timestamp": 1528205273107,
     "user": {
      "displayName": "Ashik Vaghjiyani",
      "photoUrl": "//lh4.googleusercontent.com/-F6doR5_P3m8/AAAAAAAAAAI/AAAAAAAAADA/J8mBe3MN-XQ/s50-c-k-no/photo.jpg",
      "userId": "116948409578611637361"
     },
     "user_tz": 240
    },
    "id": "TMLwckFun3F7",
    "outputId": "4423e4d3-efee-4813-f2d8-32fa1a65b270"
   },
   "outputs": [
    {
     "data": {
      "image/png": "[encoded data removed]",
      "text/plain": [
       "<matplotlib.figure.Figure at 0x7fdd36dda860>"
      ]
     },
     "metadata": {
      "tags": []
     },
     "output_type": "display_data"
    }
   ],
   "source": [
    "x = students_performance['Performance_Level'].values\n",
    "y = students_performance['Discussion'].values\n",
    "ax = plt.scatter(x, y, c='blue')"
   ]
  },
  {
   "cell_type": "markdown",
   "metadata": {
    "colab_type": "text",
    "id": "5PNy1CYNJsUi"
   },
   "source": [
    "### Comparing number of absences and performance level:"
   ]
  },
  {
   "cell_type": "code",
   "execution_count": 13,
   "metadata": {
    "colab": {
     "autoexec": {
      "startup": false,
      "wait_interval": 0
     },
     "base_uri": "https://localhost:8080/",
     "height": 69
    },
    "colab_type": "code",
    "executionInfo": {
     "elapsed": 264,
     "status": "ok",
     "timestamp": 1528205277017,
     "user": {
      "displayName": "Ashik Vaghjiyani",
      "photoUrl": "//lh4.googleusercontent.com/-F6doR5_P3m8/AAAAAAAAAAI/AAAAAAAAADA/J8mBe3MN-XQ/s50-c-k-no/photo.jpg",
      "userId": "116948409578611637361"
     },
     "user_tz": 240
    },
    "id": "N1zaw8i-s-AY",
    "outputId": "13c1195f-64ed-457a-af61-44ce4cc7e80f"
   },
   "outputs": [
    {
     "data": {
      "text/plain": [
       "Under-7    289\n",
       "Above-7    191\n",
       "Name: StudentAbsenceDays, dtype: int64"
      ]
     },
     "execution_count": 13,
     "metadata": {
      "tags": []
     },
     "output_type": "execute_result"
    }
   ],
   "source": [
    "students_performance.StudentAbsenceDays.value_counts()"
   ]
  },
  {
   "cell_type": "code",
   "execution_count": 14,
   "metadata": {
    "colab": {
     "autoexec": {
      "startup": false,
      "wait_interval": 0
     },
     "base_uri": "https://localhost:8080/",
     "height": 491
    },
    "colab_type": "code",
    "executionInfo": {
     "elapsed": 518,
     "status": "ok",
     "timestamp": 1528205280370,
     "user": {
      "displayName": "Ashik Vaghjiyani",
      "photoUrl": "//lh4.googleusercontent.com/-F6doR5_P3m8/AAAAAAAAAAI/AAAAAAAAADA/J8mBe3MN-XQ/s50-c-k-no/photo.jpg",
      "userId": "116948409578611637361"
     },
     "user_tz": 240
    },
    "id": "Zodz86TVslH2",
    "outputId": "9cce3bbb-e01d-43bd-8b14-916be1fe39c4"
   },
   "outputs": [
    {
     "data": {
      "text/plain": [
       "array([<matplotlib.axes._subplots.AxesSubplot object at 0x7fdd36e43cc0>,\n",
       "       <matplotlib.axes._subplots.AxesSubplot object at 0x7fdd38eeccc0>],\n",
       "      dtype=object)"
      ]
     },
     "execution_count": 14,
     "metadata": {
      "tags": []
     },
     "output_type": "execute_result"
    },
    {
     "data": {
      "image/png": "[encoded data removed]",
      "text/plain": [
       "<matplotlib.figure.Figure at 0x7fdd36df8160>"
      ]
     },
     "metadata": {
      "tags": []
     },
     "output_type": "display_data"
    }
   ],
   "source": [
    "students_performance.hist(column='Performance_Level', by='StudentAbsenceDays', grid=True)"
   ]
  },
  {
   "cell_type": "code",
   "execution_count": null,
   "metadata": {
    "colab": {
     "autoexec": {
      "startup": false,
      "wait_interval": 0
     }
    },
    "colab_type": "code",
    "id": "FwabjBZ41H1-"
   },
   "outputs": [],
   "source": [
    "low = students_performance[students_performance['VisITedResources'] < 40]\n",
    "\n",
    "med = students_performance[(students_performance['VisITedResources'] > 40) &\n",
    "                          (students_performance['VisITedResources'] < 80)]\n",
    "\n",
    "high = students_performance[students_performance['VisITedResources'] > 80]\n",
    "\n",
    "df = low,med,high.cumsum()"
   ]
  },
  {
   "cell_type": "code",
   "execution_count": 16,
   "metadata": {
    "colab": {
     "autoexec": {
      "startup": false,
      "wait_interval": 0
     },
     "base_uri": "https://localhost:8080/",
     "height": 35
    },
    "colab_type": "code",
    "executionInfo": {
     "elapsed": 327,
     "status": "ok",
     "timestamp": 1528205342198,
     "user": {
      "displayName": "Ashik Vaghjiyani",
      "photoUrl": "//lh4.googleusercontent.com/-F6doR5_P3m8/AAAAAAAAAAI/AAAAAAAAADA/J8mBe3MN-XQ/s50-c-k-no/photo.jpg",
      "userId": "116948409578611637361"
     },
     "user_tz": 240
    },
    "id": "z23oGyya6mE7",
    "outputId": "835f4935-bd00-47cb-8324-fed7ab203ed3"
   },
   "outputs": [
    {
     "data": {
      "text/plain": [
       "(173, 120, 154)"
      ]
     },
     "execution_count": 16,
     "metadata": {
      "tags": []
     },
     "output_type": "execute_result"
    }
   ],
   "source": [
    "x = low.shape[0], med.shape[0], high.shape[0]\n",
    "x"
   ]
  },
  {
   "cell_type": "markdown",
   "metadata": {
    "colab_type": "text",
    "id": "K64cBZZ2J0rL"
   },
   "source": [
    "### Finding relaionship between course resources utilized and performance level:"
   ]
  },
  {
   "cell_type": "code",
   "execution_count": 17,
   "metadata": {
    "colab": {
     "autoexec": {
      "startup": false,
      "wait_interval": 0
     },
     "base_uri": "https://localhost:8080/",
     "height": 535
    },
    "colab_type": "code",
    "executionInfo": {
     "elapsed": 714,
     "status": "ok",
     "timestamp": 1528205346984,
     "user": {
      "displayName": "Ashik Vaghjiyani",
      "photoUrl": "//lh4.googleusercontent.com/-F6doR5_P3m8/AAAAAAAAAAI/AAAAAAAAADA/J8mBe3MN-XQ/s50-c-k-no/photo.jpg",
      "userId": "116948409578611637361"
     },
     "user_tz": 240
    },
    "id": "vw_-QKjx0lPF",
    "outputId": "2eb22872-f7f7-491e-86c9-83bdd74e4fea"
   },
   "outputs": [
    {
     "data": {
      "text/plain": [
       "array([[<matplotlib.axes._subplots.AxesSubplot object at 0x7fdd36de2048>,\n",
       "        <matplotlib.axes._subplots.AxesSubplot object at 0x7fdd36cbb240>],\n",
       "       [<matplotlib.axes._subplots.AxesSubplot object at 0x7fdd36c6d940>,\n",
       "        <matplotlib.axes._subplots.AxesSubplot object at 0x7fdd36c25f60>]],\n",
       "      dtype=object)"
      ]
     },
     "execution_count": 17,
     "metadata": {
      "tags": []
     },
     "output_type": "execute_result"
    },
    {
     "data": {
      "image/png": "[encoded data removed]",
      "text/plain": [
       "<matplotlib.figure.Figure at 0x7fdd36e43940>"
      ]
     },
     "metadata": {
      "tags": []
     },
     "output_type": "display_data"
    }
   ],
   "source": [
    "students_performance.hist(column='VisITedResources', by='Performance_Level', grid=True,)"
   ]
  },
  {
   "cell_type": "markdown",
   "metadata": {
    "colab_type": "text",
    "id": "G0jaTOGmJ-cF"
   },
   "source": [
    "### Correlating overall course participation and student performance level:"
   ]
  },
  {
   "cell_type": "code",
   "execution_count": 18,
   "metadata": {
    "colab": {
     "autoexec": {
      "startup": false,
      "wait_interval": 0
     },
     "base_uri": "https://localhost:8080/",
     "height": 530
    },
    "colab_type": "code",
    "executionInfo": {
     "elapsed": 504,
     "status": "ok",
     "timestamp": 1528205384576,
     "user": {
      "displayName": "Ashik Vaghjiyani",
      "photoUrl": "//lh4.googleusercontent.com/-F6doR5_P3m8/AAAAAAAAAAI/AAAAAAAAADA/J8mBe3MN-XQ/s50-c-k-no/photo.jpg",
      "userId": "116948409578611637361"
     },
     "user_tz": 240
    },
    "id": "aNH1V1UWFT5r",
    "outputId": "bcc5a4e2-2e18-4484-c8c5-8a843a5ca6c6"
   },
   "outputs": [
    {
     "data": {
      "text/plain": [
       "Text(0.5,1,'Student Performance vs. Course Participation')"
      ]
     },
     "execution_count": 18,
     "metadata": {
      "tags": []
     },
     "output_type": "execute_result"
    },
    {
     "data": {
      "image/png": "[encoded data removed]",
      "text/plain": [
       "<matplotlib.figure.Figure at 0x7fdd36c109b0>"
      ]
     },
     "metadata": {
      "tags": []
     },
     "output_type": "display_data"
    }
   ],
   "source": [
    "# Create participation dataframe containing total participation and performance level for each student\n",
    "participation = pd.concat([students_performance[['raisedhands', 'VisITedResources', 'AnnouncementsView', 'Discussion']].sum(axis = 1), students_performance['Performance_Level']], axis = 1)\n",
    "# Format participation dataframe\n",
    "participation.columns = ['ParticipationTotal', 'PerformanceLevel']\n",
    "# Sort participation by performance level (low, medium, high)\n",
    "performance_dict = {'L' : 0, 'M' : 1, 'H' : 2}\n",
    "participation['PerformanceNum'] = participation['PerformanceLevel'].map(performance_dict)\n",
    "participation.sort_values(by = ['PerformanceNum'], inplace = True)\n",
    "\n",
    "# Plot performance level against total participation\n",
    "fig1 = plt.figure(figsize = (10, 8))\n",
    "ax1 = fig1.add_subplot(1, 1, 1)\n",
    "ax1.scatter(x = participation['PerformanceLevel'], y = participation['ParticipationTotal'])\n",
    "ax1.set_ylabel(\"Total Points of Participation\")\n",
    "ax1.set_xlabel(\"Performance Level (Low, Medium, High)\")\n",
    "ax1.set_title(\"Student Performance vs. Course Participation\")"
   ]
  },
  {
   "cell_type": "markdown",
   "metadata": {
    "colab_type": "text",
    "id": "1-wEFDz7KjkJ"
   },
   "source": [
    "The above graph compares student performance against total course participation (number of raised hands, number of class resources visited, number of announcements viewed, and number of discussion contributions).\n",
    "\n",
    "**Notable takeaways:**\n",
    "  + There is a clear correlation between low- and high-performing students and total participation by these students, with high-performing students demonstrating high amounts of participation, and vice versa.\n",
    "  + However, middle-performing students demonstrate a large range of participation.\n",
    "  + Two low-performing students and four high-performing students have demonstrated course participation high above and below the norm, respectively. These students may be worth looking further into given the objectives of this analysis"
   ]
  },
  {
   "cell_type": "markdown",
   "metadata": {
    "colab_type": "text",
    "id": "XPetTejRLFfP"
   },
   "source": [
    "### Additional considerations:"
   ]
  },
  {
   "cell_type": "markdown",
   "metadata": {
    "colab_type": "text",
    "id": "gSpzcS8-I18B"
   },
   "source": [
    "There are several additional problems we would like to look into beyond the scope of this dataset. These problems include:\n",
    "  + Possible correspondances between academic performance and languages spoken by students.\n",
    "  + Analysis of low-performing students who demostrated high class involvement behaviors.\n",
    "  + Further analysis of results of parental satisfaction surveys to address specific areas of satisfaction or dissatifaction, as well as to consider the level of satisfaction or dissatisfaction in these areas.\n",
    "  + Potential follow-up studies to include new data and create comparisons between current and previous datasets."
   ]
  },
  {
   "cell_type": "markdown",
   "metadata": {
    "colab_type": "text",
    "id": "AKG30Zl977kQ"
   },
   "source": [
    "### Works Referenced:\n",
    "\n",
    "Amrieh, E. A., Hamtini, T., & Aljarah, I. (2016). Mining Educational Data to Predict Student’s academic Performance using Ensemble Methods. International Journal of Database Theory and Application, 9(8), 119-136.\n",
    "\n",
    "Amrieh, E. A., Hamtini, T., & Aljarah, I. (2015, November). Preprocessing and analyzing educational data set using X-API for improving student's performance. In Applied Electrical Engineering and Computing Technologies (AEECT), 2015 IEEE Jordan Conference on (pp. 1-5). IEEE."
   ]
  },
  {
   "cell_type": "markdown",
   "metadata": {
    "colab": {
     "autoexec": {
      "startup": false,
      "wait_interval": 0
     }
    },
    "colab_type": "code",
    "id": "GtpOcqy_4dm-"
   },
   "source": [
    "## Extra"
   ]
  },
  {
   "cell_type": "code",
   "execution_count": 10,
   "metadata": {
    "colab": {
     "autoexec": {
      "startup": false,
      "wait_interval": 0
     },
     "base_uri": "https://localhost:8080/",
     "height": 529
    },
    "colab_type": "code",
    "executionInfo": {
     "elapsed": 605,
     "status": "ok",
     "timestamp": 1528052138577,
     "user": {
      "displayName": "Michael Tolvaisa",
      "photoUrl": "https://lh3.googleusercontent.com/a/default-user=s128",
      "userId": "102388690819574307549"
     },
     "user_tz": 240
    },
    "id": "ucmisYOL70FD",
    "outputId": "03bee1dc-e0bc-41dc-d537-8ecfbea38783"
   },
   "outputs": [
    {
     "data": {
      "text/plain": [
       "Text(0.5,1,'Student Performance vs. Course Participation')"
      ]
     },
     "execution_count": 10,
     "metadata": {
      "tags": []
     },
     "output_type": "execute_result"
    },
    {
     "data": {
      "image/png": "[encoded data removed]",
      "text/plain": [
       "<matplotlib.figure.Figure at 0x7fb1fe7f8780>"
      ]
     },
     "metadata": {
      "tags": []
     },
     "output_type": "display_data"
    }
   ],
   "source": [
    "# Create participation dataframe containing total participation and performance level for each student\n",
    "participation = pd.concat([students_performance[['raisedhands', 'VisITedResources', 'AnnouncementsView', 'Discussion']].sum(axis = 1), students_performance['Performance_Level']], axis = 1)\n",
    "# Format participation dataframe\n",
    "participation.columns = ['ParticipationTotal', 'PerformanceLevel']\n",
    "# Sort participation by performance level (low, medium, high)\n",
    "performance_dict = {'L' : 0, 'M' : 1, 'H' : 2}\n",
    "participation['PerformanceNum'] = participation['PerformanceLevel'].map(performance_dict)\n",
    "participation.sort_values(by = ['PerformanceNum'], inplace = True)\n",
    "\n",
    "# Plot performance level against total participation\n",
    "fig1 = plt.figure(figsize = (10, 8))\n",
    "ax1 = fig1.add_subplot(1, 1, 1)\n",
    "ax1.scatter(x = participation['PerformanceLevel'], y = participation['ParticipationTotal'])\n",
    "ax1.set_ylabel(\"Total Points of Participation\")\n",
    "ax1.set_xlabel(\"Performance Level (Low, Medium, High)\")\n",
    "ax1.set_title(\"Student Performance vs. Course Participation\")"
   ]
  },
  {
   "cell_type": "code",
   "execution_count": null,
   "metadata": {
    "colab": {
     "autoexec": {
      "startup": false,
      "wait_interval": 0
     }
    },
    "colab_type": "code",
    "id": "mnx8_NWz919O"
   },
   "outputs": [],
   "source": []
  }
 ],
 "metadata": {
  "colab": {
   "collapsed_sections": [],
   "default_view": {},
   "name": "INFO212-Project-Introduction-Report.ipynb",
   "provenance": [],
   "version": "0.3.2",
   "views": {}
  },
  "kernelspec": {
   "display_name": "Python 3",
   "language": "python",
   "name": "python3"
  },
  "language_info": {
   "codemirror_mode": {
    "name": "ipython",
    "version": 3
   },
   "file_extension": ".py",
   "mimetype": "text/x-python",
   "name": "python",
   "nbconvert_exporter": "python",
   "pygments_lexer": "ipython3",
   "version": "3.6.1"
  }
 },
 "nbformat": 4,
 "nbformat_minor": 2
}
